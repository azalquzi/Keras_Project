{
 "cells": [
  {
   "cell_type": "markdown",
   "metadata": {
    "id": "r29DbAbaC2Ia"
   },
   "source": [
    "\n",
    "LendingClub is a US peer-to-peer lending company, headquartered in San Francisco, California.[3] It was the first peer-to-peer lender to register its offerings as securities with the Securities and Exchange Commission (SEC), and to offer loan trading on a secondary market. LendingClub is the world's largest peer-to-peer lending platform.\n",
    "\n",
    "### Our Goal\n",
    "\n",
    "Given historical data on loans given out with information on whether or not the borrower defaulted (charge-off), can we build a model thatcan predict wether or nor a borrower will pay back their loan? This way in the future when we get a new potential customer we can assess whether or not they are likely to pay back the loan. Keep in mind classification metrics when evaluating the performance of your model!\n",
    "\n",
    "The \"loan_status\" column contains our label.\n",
    "\n",
    "### Data Overview"
   ]
  },
  {
   "cell_type": "markdown",
   "metadata": {
    "id": "ofMLXej0C2Ib"
   },
   "source": [
    "----\n",
    "-----\n",
    "There are many LendingClub data sets on Kaggle. Here is the information on this particular data set:\n",
    "\n",
    "<table border=\"1\" class=\"dataframe\">\n",
    "  <thead>\n",
    "    <tr style=\"text-align: right;\">\n",
    "      <th></th>\n",
    "      <th>LoanStatNew</th>\n",
    "      <th>Description</th>\n",
    "    </tr>\n",
    "  </thead>\n",
    "  <tbody>\n",
    "    <tr>\n",
    "      <th>0</th>\n",
    "      <td>loan_amnt</td>\n",
    "      <td>The listed amount of the loan applied for by the borrower. If at some point in time, the credit department reduces the loan amount, then it will be reflected in this value.</td>\n",
    "    </tr>\n",
    "    <tr>\n",
    "      <th>1</th>\n",
    "      <td>term</td>\n",
    "      <td>The number of payments on the loan. Values are in months and can be either 36 or 60.</td>\n",
    "    </tr>\n",
    "    <tr>\n",
    "      <th>2</th>\n",
    "      <td>int_rate</td>\n",
    "      <td>Interest Rate on the loan</td>\n",
    "    </tr>\n",
    "    <tr>\n",
    "      <th>3</th>\n",
    "      <td>installment</td>\n",
    "      <td>The monthly payment owed by the borrower if the loan originates.</td>\n",
    "    </tr>\n",
    "    <tr>\n",
    "      <th>4</th>\n",
    "      <td>grade</td>\n",
    "      <td>LC assigned loan grade</td>\n",
    "    </tr>\n",
    "    <tr>\n",
    "      <th>5</th>\n",
    "      <td>sub_grade</td>\n",
    "      <td>LC assigned loan subgrade</td>\n",
    "    </tr>\n",
    "    <tr>\n",
    "      <th>6</th>\n",
    "      <td>emp_title</td>\n",
    "      <td>The job title supplied by the Borrower when applying for the loan.*</td>\n",
    "    </tr>\n",
    "    <tr>\n",
    "      <th>7</th>\n",
    "      <td>emp_length</td>\n",
    "      <td>Employment length in years. Possible values are between 0 and 10 where 0 means less than one year and 10 means ten or more years.</td>\n",
    "    </tr>\n",
    "    <tr>\n",
    "      <th>8</th>\n",
    "      <td>home_ownership</td>\n",
    "      <td>The home ownership status provided by the borrower during registration or obtained from the credit report. Our values are: RENT, OWN, MORTGAGE, OTHER</td>\n",
    "    </tr>\n",
    "    <tr>\n",
    "      <th>9</th>\n",
    "      <td>annual_inc</td>\n",
    "      <td>The self-reported annual income provided by the borrower during registration.</td>\n",
    "    </tr>\n",
    "    <tr>\n",
    "      <th>10</th>\n",
    "      <td>verification_status</td>\n",
    "      <td>Indicates if income was verified by LC, not verified, or if the income source was verified</td>\n",
    "    </tr>\n",
    "    <tr>\n",
    "      <th>11</th>\n",
    "      <td>issue_d</td>\n",
    "      <td>The month which the loan was funded</td>\n",
    "    </tr>\n",
    "    <tr>\n",
    "      <th>12</th>\n",
    "      <td>loan_status</td>\n",
    "      <td>Current status of the loan</td>\n",
    "    </tr>\n",
    "    <tr>\n",
    "      <th>13</th>\n",
    "      <td>purpose</td>\n",
    "      <td>A category provided by the borrower for the loan request.</td>\n",
    "    </tr>\n",
    "    <tr>\n",
    "      <th>14</th>\n",
    "      <td>title</td>\n",
    "      <td>The loan title provided by the borrower</td>\n",
    "    </tr>\n",
    "    <tr>\n",
    "      <th>15</th>\n",
    "      <td>zip_code</td>\n",
    "      <td>The first 3 numbers of the zip code provided by the borrower in the loan application.</td>\n",
    "    </tr>\n",
    "    <tr>\n",
    "      <th>16</th>\n",
    "      <td>addr_state</td>\n",
    "      <td>The state provided by the borrower in the loan application</td>\n",
    "    </tr>\n",
    "    <tr>\n",
    "      <th>17</th>\n",
    "      <td>dti</td>\n",
    "      <td>A ratio calculated using the borrower’s total monthly debt payments on the total debt obligations, excluding mortgage and the requested LC loan, divided by the borrower’s self-reported monthly income.</td>\n",
    "    </tr>\n",
    "    <tr>\n",
    "      <th>18</th>\n",
    "      <td>earliest_cr_line</td>\n",
    "      <td>The month the borrower's earliest reported credit line was opened</td>\n",
    "    </tr>\n",
    "    <tr>\n",
    "      <th>19</th>\n",
    "      <td>open_acc</td>\n",
    "      <td>The number of open credit lines in the borrower's credit file.</td>\n",
    "    </tr>\n",
    "    <tr>\n",
    "      <th>20</th>\n",
    "      <td>pub_rec</td>\n",
    "      <td>Number of derogatory public records</td>\n",
    "    </tr>\n",
    "    <tr>\n",
    "      <th>21</th>\n",
    "      <td>revol_bal</td>\n",
    "      <td>Total credit revolving balance</td>\n",
    "    </tr>\n",
    "    <tr>\n",
    "      <th>22</th>\n",
    "      <td>revol_util</td>\n",
    "      <td>Revolving line utilization rate, or the amount of credit the borrower is using relative to all available revolving credit.</td>\n",
    "    </tr>\n",
    "    <tr>\n",
    "      <th>23</th>\n",
    "      <td>total_acc</td>\n",
    "      <td>The total number of credit lines currently in the borrower's credit file</td>\n",
    "    </tr>\n",
    "    <tr>\n",
    "      <th>24</th>\n",
    "      <td>initial_list_status</td>\n",
    "      <td>The initial listing status of the loan. Possible values are – W, F</td>\n",
    "    </tr>\n",
    "    <tr>\n",
    "      <th>25</th>\n",
    "      <td>application_type</td>\n",
    "      <td>Indicates whether the loan is an individual application or a joint application with two co-borrowers</td>\n",
    "    </tr>\n",
    "    <tr>\n",
    "      <th>26</th>\n",
    "      <td>mort_acc</td>\n",
    "      <td>Number of mortgage accounts.</td>\n",
    "    </tr>\n",
    "    <tr>\n",
    "      <th>27</th>\n",
    "      <td>pub_rec_bankruptcies</td>\n",
    "      <td>Number of public record bankruptcies</td>\n",
    "    </tr>\n",
    "  </tbody>\n",
    "</table>\n",
    "\n",
    "---\n",
    "----"
   ]
  },
  {
   "cell_type": "code",
   "execution_count": 1,
   "metadata": {
    "id": "8CyOqmAYC2Ie"
   },
   "outputs": [],
   "source": [
    "import pandas as pd"
   ]
  },
  {
   "cell_type": "code",
   "execution_count": 2,
   "metadata": {
    "id": "d77SCk1TC2If"
   },
   "outputs": [],
   "source": [
    "data_info = pd.read_csv('lending_club_info.csv',index_col='LoanStatNew')"
   ]
  },
  {
   "cell_type": "code",
   "execution_count": 3,
   "metadata": {
    "colab": {
     "base_uri": "https://localhost:8080/"
    },
    "id": "c4yw8qelC2Ig",
    "outputId": "42886d20-0695-4ace-90b9-b4f2954e207f"
   },
   "outputs": [
    {
     "name": "stdout",
     "output_type": "stream",
     "text": [
      "Revolving line utilization rate, or the amount of credit the borrower is using relative to all available revolving credit.\n"
     ]
    }
   ],
   "source": [
    "print(data_info.loc['revol_util']['Description'])"
   ]
  },
  {
   "cell_type": "code",
   "execution_count": 4,
   "metadata": {
    "id": "wVClr2GDC2Ih"
   },
   "outputs": [],
   "source": [
    "def feat_info(col_name):\n",
    "    print(data_info.loc[col_name]['Description'])"
   ]
  },
  {
   "cell_type": "code",
   "execution_count": 5,
   "metadata": {
    "colab": {
     "base_uri": "https://localhost:8080/"
    },
    "id": "7TwNYm12C2Ih",
    "outputId": "a25fad78-9458-4ceb-9c4f-eaecd4a7dc73"
   },
   "outputs": [
    {
     "name": "stdout",
     "output_type": "stream",
     "text": [
      "Number of mortgage accounts.\n"
     ]
    }
   ],
   "source": [
    "feat_info('mort_acc')"
   ]
  },
  {
   "cell_type": "markdown",
   "metadata": {
    "id": "dVpc96FgC2Ii"
   },
   "source": [
    "## Loading the data and other imports"
   ]
  },
  {
   "cell_type": "code",
   "execution_count": 6,
   "metadata": {
    "id": "VDvw4_79C2Ii"
   },
   "outputs": [],
   "source": [
    "import pandas as pd\n",
    "import numpy as np\n",
    "import matplotlib.pyplot as plt\n",
    "import seaborn as sns\n",
    "\n",
    "# might be needed depending on your version of Jupyter\n",
    "%matplotlib inline"
   ]
  },
  {
   "cell_type": "code",
   "execution_count": 7,
   "metadata": {
    "id": "FauHgeh9C2Ij"
   },
   "outputs": [],
   "source": [
    "df = pd.read_csv('lending_club_loan_two.csv')"
   ]
  },
  {
   "cell_type": "code",
   "execution_count": 8,
   "metadata": {
    "colab": {
     "base_uri": "https://localhost:8080/"
    },
    "id": "4WXoKzojC2Ij",
    "outputId": "3b332dae-89c8-4954-ae25-e11cef2c9fc2"
   },
   "outputs": [
    {
     "name": "stdout",
     "output_type": "stream",
     "text": [
      "<class 'pandas.core.frame.DataFrame'>\n",
      "RangeIndex: 396030 entries, 0 to 396029\n",
      "Data columns (total 27 columns):\n",
      " #   Column                Non-Null Count   Dtype  \n",
      "---  ------                --------------   -----  \n",
      " 0   loan_amnt             396030 non-null  float64\n",
      " 1   term                  396030 non-null  object \n",
      " 2   int_rate              396030 non-null  float64\n",
      " 3   installment           396030 non-null  float64\n",
      " 4   grade                 396030 non-null  object \n",
      " 5   sub_grade             396030 non-null  object \n",
      " 6   emp_title             373103 non-null  object \n",
      " 7   emp_length            377729 non-null  object \n",
      " 8   home_ownership        396030 non-null  object \n",
      " 9   annual_inc            396030 non-null  float64\n",
      " 10  verification_status   396030 non-null  object \n",
      " 11  issue_d               396030 non-null  object \n",
      " 12  loan_status           396030 non-null  object \n",
      " 13  purpose               396030 non-null  object \n",
      " 14  title                 394275 non-null  object \n",
      " 15  dti                   396030 non-null  float64\n",
      " 16  earliest_cr_line      396030 non-null  object \n",
      " 17  open_acc              396030 non-null  float64\n",
      " 18  pub_rec               396030 non-null  float64\n",
      " 19  revol_bal             396030 non-null  float64\n",
      " 20  revol_util            395754 non-null  float64\n",
      " 21  total_acc             396030 non-null  float64\n",
      " 22  initial_list_status   396030 non-null  object \n",
      " 23  application_type      396030 non-null  object \n",
      " 24  mort_acc              358235 non-null  float64\n",
      " 25  pub_rec_bankruptcies  395495 non-null  float64\n",
      " 26  address               396030 non-null  object \n",
      "dtypes: float64(12), object(15)\n",
      "memory usage: 81.6+ MB\n"
     ]
    }
   ],
   "source": [
    "df.info()"
   ]
  },
  {
   "cell_type": "markdown",
   "metadata": {
    "id": "3P1y4a16C2Ik"
   },
   "source": [
    "# Project Tasks\n",
    "\n",
    "# Exploratory Data Analysis\n",
    "\n",
    "**OVERALL GOAL: Get an understanding for which variables are important, view summary statistics, and visualize the data**\n"
   ]
  },
  {
   "cell_type": "code",
   "execution_count": 9,
   "metadata": {
    "colab": {
     "base_uri": "https://localhost:8080/",
     "height": 297
    },
    "id": "4w3wOTu6C2Ik",
    "outputId": "e5ff38a2-7c75-4549-d3fe-e2b72b4b0389"
   },
   "outputs": [
    {
     "data": {
      "text/plain": [
       "<matplotlib.axes._subplots.AxesSubplot at 0x7f4c5daef590>"
      ]
     },
     "execution_count": 9,
     "metadata": {},
     "output_type": "execute_result"
    },
    {
     "data": {
      "image/png": "[encoded data removed]",
      "text/plain": [
       "<Figure size 432x288 with 1 Axes>"
      ]
     },
     "metadata": {
      "needs_background": "light"
     },
     "output_type": "display_data"
    }
   ],
   "source": [
    "#predict loan_status\n",
    "sns.countplot(x=\"loan_status\", data=df)"
   ]
  },
  {
   "cell_type": "markdown",
   "metadata": {
    "id": "xgZJimcbC2Il"
   },
   "source": [
    "**Create a histogram of the loan_amnt column.**"
   ]
  },
  {
   "cell_type": "code",
   "execution_count": 10,
   "metadata": {
    "colab": {
     "base_uri": "https://localhost:8080/",
     "height": 265
    },
    "id": "VqzkZM7fC2Im",
    "outputId": "c8ad2670-912d-4456-cc88-88da6ef83e13"
   },
   "outputs": [
    {
     "data": {
      "image/png": "[encoded data removed]",
      "text/plain": [
       "<Figure size 864x288 with 1 Axes>"
      ]
     },
     "metadata": {
      "needs_background": "light"
     },
     "output_type": "display_data"
    }
   ],
   "source": [
    "plt.figure(figsize=(12,4))\n",
    "plt.xlim(0,45000)\n",
    "_=plt.hist(x=\"loan_amnt\", data= df, bins=30)"
   ]
  },
  {
   "cell_type": "code",
   "execution_count": 11,
   "metadata": {
    "colab": {
     "base_uri": "https://localhost:8080/",
     "height": 485
    },
    "id": "vjHbYqoQC2In",
    "outputId": "c6610b9b-7297-4a25-d74e-b58a0c5a3954"
   },
   "outputs": [
    {
     "data": {
      "text/html": [
       "\n",
       "  <div id=\"df-149df7a5-c70e-4fd9-ace7-0c8b7b7415ba\">\n",
       "    <div class=\"colab-df-container\">\n",
       "      <div>\n",
       "<style scoped>\n",
       "    .dataframe tbody tr th:only-of-type {\n",
       "        vertical-align: middle;\n",
       "    }\n",
       "\n",
       "    .dataframe tbody tr th {\n",
       "        vertical-align: top;\n",
       "    }\n",
       "\n",
       "    .dataframe thead th {\n",
       "        text-align: right;\n",
       "    }\n",
       "</style>\n",
       "<table border=\"1\" class=\"dataframe\">\n",
       "  <thead>\n",
       "    <tr style=\"text-align: right;\">\n",
       "      <th></th>\n",
       "      <th>loan_amnt</th>\n",
       "      <th>int_rate</th>\n",
       "      <th>installment</th>\n",
       "      <th>annual_inc</th>\n",
       "      <th>dti</th>\n",
       "      <th>open_acc</th>\n",
       "      <th>pub_rec</th>\n",
       "      <th>revol_bal</th>\n",
       "      <th>revol_util</th>\n",
       "      <th>total_acc</th>\n",
       "      <th>mort_acc</th>\n",
       "      <th>pub_rec_bankruptcies</th>\n",
       "    </tr>\n",
       "  </thead>\n",
       "  <tbody>\n",
       "    <tr>\n",
       "      <th>loan_amnt</th>\n",
       "      <td>1.000000</td>\n",
       "      <td>0.168921</td>\n",
       "      <td>0.953929</td>\n",
       "      <td>0.336887</td>\n",
       "      <td>0.016636</td>\n",
       "      <td>0.198556</td>\n",
       "      <td>-0.077779</td>\n",
       "      <td>0.328320</td>\n",
       "      <td>0.099911</td>\n",
       "      <td>0.223886</td>\n",
       "      <td>0.222315</td>\n",
       "      <td>-0.106539</td>\n",
       "    </tr>\n",
       "    <tr>\n",
       "      <th>int_rate</th>\n",
       "      <td>0.168921</td>\n",
       "      <td>1.000000</td>\n",
       "      <td>0.162758</td>\n",
       "      <td>-0.056771</td>\n",
       "      <td>0.079038</td>\n",
       "      <td>0.011649</td>\n",
       "      <td>0.060986</td>\n",
       "      <td>-0.011280</td>\n",
       "      <td>0.293659</td>\n",
       "      <td>-0.036404</td>\n",
       "      <td>-0.082583</td>\n",
       "      <td>0.057450</td>\n",
       "    </tr>\n",
       "    <tr>\n",
       "      <th>installment</th>\n",
       "      <td>0.953929</td>\n",
       "      <td>0.162758</td>\n",
       "      <td>1.000000</td>\n",
       "      <td>0.330381</td>\n",
       "      <td>0.015786</td>\n",
       "      <td>0.188973</td>\n",
       "      <td>-0.067892</td>\n",
       "      <td>0.316455</td>\n",
       "      <td>0.123915</td>\n",
       "      <td>0.202430</td>\n",
       "      <td>0.193694</td>\n",
       "      <td>-0.098628</td>\n",
       "    </tr>\n",
       "    <tr>\n",
       "      <th>annual_inc</th>\n",
       "      <td>0.336887</td>\n",
       "      <td>-0.056771</td>\n",
       "      <td>0.330381</td>\n",
       "      <td>1.000000</td>\n",
       "      <td>-0.081685</td>\n",
       "      <td>0.136150</td>\n",
       "      <td>-0.013720</td>\n",
       "      <td>0.299773</td>\n",
       "      <td>0.027871</td>\n",
       "      <td>0.193023</td>\n",
       "      <td>0.236320</td>\n",
       "      <td>-0.050162</td>\n",
       "    </tr>\n",
       "    <tr>\n",
       "      <th>dti</th>\n",
       "      <td>0.016636</td>\n",
       "      <td>0.079038</td>\n",
       "      <td>0.015786</td>\n",
       "      <td>-0.081685</td>\n",
       "      <td>1.000000</td>\n",
       "      <td>0.136181</td>\n",
       "      <td>-0.017639</td>\n",
       "      <td>0.063571</td>\n",
       "      <td>0.088375</td>\n",
       "      <td>0.102128</td>\n",
       "      <td>-0.025439</td>\n",
       "      <td>-0.014558</td>\n",
       "    </tr>\n",
       "    <tr>\n",
       "      <th>open_acc</th>\n",
       "      <td>0.198556</td>\n",
       "      <td>0.011649</td>\n",
       "      <td>0.188973</td>\n",
       "      <td>0.136150</td>\n",
       "      <td>0.136181</td>\n",
       "      <td>1.000000</td>\n",
       "      <td>-0.018392</td>\n",
       "      <td>0.221192</td>\n",
       "      <td>-0.131420</td>\n",
       "      <td>0.680728</td>\n",
       "      <td>0.109205</td>\n",
       "      <td>-0.027732</td>\n",
       "    </tr>\n",
       "    <tr>\n",
       "      <th>pub_rec</th>\n",
       "      <td>-0.077779</td>\n",
       "      <td>0.060986</td>\n",
       "      <td>-0.067892</td>\n",
       "      <td>-0.013720</td>\n",
       "      <td>-0.017639</td>\n",
       "      <td>-0.018392</td>\n",
       "      <td>1.000000</td>\n",
       "      <td>-0.101664</td>\n",
       "      <td>-0.075910</td>\n",
       "      <td>0.019723</td>\n",
       "      <td>0.011552</td>\n",
       "      <td>0.699408</td>\n",
       "    </tr>\n",
       "    <tr>\n",
       "      <th>revol_bal</th>\n",
       "      <td>0.328320</td>\n",
       "      <td>-0.011280</td>\n",
       "      <td>0.316455</td>\n",
       "      <td>0.299773</td>\n",
       "      <td>0.063571</td>\n",
       "      <td>0.221192</td>\n",
       "      <td>-0.101664</td>\n",
       "      <td>1.000000</td>\n",
       "      <td>0.226346</td>\n",
       "      <td>0.191616</td>\n",
       "      <td>0.194925</td>\n",
       "      <td>-0.124532</td>\n",
       "    </tr>\n",
       "    <tr>\n",
       "      <th>revol_util</th>\n",
       "      <td>0.099911</td>\n",
       "      <td>0.293659</td>\n",
       "      <td>0.123915</td>\n",
       "      <td>0.027871</td>\n",
       "      <td>0.088375</td>\n",
       "      <td>-0.131420</td>\n",
       "      <td>-0.075910</td>\n",
       "      <td>0.226346</td>\n",
       "      <td>1.000000</td>\n",
       "      <td>-0.104273</td>\n",
       "      <td>0.007514</td>\n",
       "      <td>-0.086751</td>\n",
       "    </tr>\n",
       "    <tr>\n",
       "      <th>total_acc</th>\n",
       "      <td>0.223886</td>\n",
       "      <td>-0.036404</td>\n",
       "      <td>0.202430</td>\n",
       "      <td>0.193023</td>\n",
       "      <td>0.102128</td>\n",
       "      <td>0.680728</td>\n",
       "      <td>0.019723</td>\n",
       "      <td>0.191616</td>\n",
       "      <td>-0.104273</td>\n",
       "      <td>1.000000</td>\n",
       "      <td>0.381072</td>\n",
       "      <td>0.042035</td>\n",
       "    </tr>\n",
       "    <tr>\n",
       "      <th>mort_acc</th>\n",
       "      <td>0.222315</td>\n",
       "      <td>-0.082583</td>\n",
       "      <td>0.193694</td>\n",
       "      <td>0.236320</td>\n",
       "      <td>-0.025439</td>\n",
       "      <td>0.109205</td>\n",
       "      <td>0.011552</td>\n",
       "      <td>0.194925</td>\n",
       "      <td>0.007514</td>\n",
       "      <td>0.381072</td>\n",
       "      <td>1.000000</td>\n",
       "      <td>0.027239</td>\n",
       "    </tr>\n",
       "    <tr>\n",
       "      <th>pub_rec_bankruptcies</th>\n",
       "      <td>-0.106539</td>\n",
       "      <td>0.057450</td>\n",
       "      <td>-0.098628</td>\n",
       "      <td>-0.050162</td>\n",
       "      <td>-0.014558</td>\n",
       "      <td>-0.027732</td>\n",
       "      <td>0.699408</td>\n",
       "      <td>-0.124532</td>\n",
       "      <td>-0.086751</td>\n",
       "      <td>0.042035</td>\n",
       "      <td>0.027239</td>\n",
       "      <td>1.000000</td>\n",
       "    </tr>\n",
       "  </tbody>\n",
       "</table>\n",
       "</div>\n",
       "      <button class=\"colab-df-convert\" onclick=\"convertToInteractive('df-149df7a5-c70e-4fd9-ace7-0c8b7b7415ba')\"\n",
       "              title=\"Convert this dataframe to an interactive table.\"\n",
       "              style=\"display:none;\">\n",
       "        \n",
       "  <svg xmlns=\"http://www.w3.org/2000/svg\" height=\"24px\"viewBox=\"0 0 24 24\"\n",
       "       width=\"24px\">\n",
       "    <path d=\"M0 0h24v24H0V0z\" fill=\"none\"/>\n",
       "    <path d=\"M18.56 5.44l.94 2.06.94-2.06 2.06-.94-2.06-.94-.94-2.06-.94 2.06-2.06.94zm-11 1L8.5 8.5l.94-2.06 2.06-.94-2.06-.94L8.5 2.5l-.94 2.06-2.06.94zm10 10l.94 2.06.94-2.06 2.06-.94-2.06-.94-.94-2.06-.94 2.06-2.06.94z\"/><path d=\"M17.41 7.96l-1.37-1.37c-.4-.4-.92-.59-1.43-.59-.52 0-1.04.2-1.43.59L10.3 9.45l-7.72 7.72c-.78.78-.78 2.05 0 2.83L4 21.41c.39.39.9.59 1.41.59.51 0 1.02-.2 1.41-.59l7.78-7.78 2.81-2.81c.8-.78.8-2.07 0-2.86zM5.41 20L4 18.59l7.72-7.72 1.47 1.35L5.41 20z\"/>\n",
       "  </svg>\n",
       "      </button>\n",
       "      \n",
       "  <style>\n",
       "    .colab-df-container {\n",
       "      display:flex;\n",
       "      flex-wrap:wrap;\n",
       "      gap: 12px;\n",
       "    }\n",
       "\n",
       "    .colab-df-convert {\n",
       "      background-color: #E8F0FE;\n",
       "      border: none;\n",
       "      border-radius: 50%;\n",
       "      cursor: pointer;\n",
       "      display: none;\n",
       "      fill: #1967D2;\n",
       "      height: 32px;\n",
       "      padding: 0 0 0 0;\n",
       "      width: 32px;\n",
       "    }\n",
       "\n",
       "    .colab-df-convert:hover {\n",
       "      background-color: #E2EBFA;\n",
       "      box-shadow: 0px 1px 2px rgba(60, 64, 67, 0.3), 0px 1px 3px 1px rgba(60, 64, 67, 0.15);\n",
       "      fill: #174EA6;\n",
       "    }\n",
       "\n",
       "    [theme=dark] .colab-df-convert {\n",
       "      background-color: #3B4455;\n",
       "      fill: #D2E3FC;\n",
       "    }\n",
       "\n",
       "    [theme=dark] .colab-df-convert:hover {\n",
       "      background-color: #434B5C;\n",
       "      box-shadow: 0px 1px 3px 1px rgba(0, 0, 0, 0.15);\n",
       "      filter: drop-shadow(0px 1px 2px rgba(0, 0, 0, 0.3));\n",
       "      fill: #FFFFFF;\n",
       "    }\n",
       "  </style>\n",
       "\n",
       "      <script>\n",
       "        const buttonEl =\n",
       "          document.querySelector('#df-149df7a5-c70e-4fd9-ace7-0c8b7b7415ba button.colab-df-convert');\n",
       "        buttonEl.style.display =\n",
       "          google.colab.kernel.accessAllowed ? 'block' : 'none';\n",
       "\n",
       "        async function convertToInteractive(key) {\n",
       "          const element = document.querySelector('#df-149df7a5-c70e-4fd9-ace7-0c8b7b7415ba');\n",
       "          const dataTable =\n",
       "            await google.colab.kernel.invokeFunction('convertToInteractive',\n",
       "                                                     [key], {});\n",
       "          if (!dataTable) return;\n",
       "\n",
       "          const docLinkHtml = 'Like what you see? Visit the ' +\n",
       "            '<a target=\"_blank\" href=https://colab.research.google.com/notebooks/data_table.ipynb>data table notebook</a>'\n",
       "            + ' to learn more about interactive tables.';\n",
       "          element.innerHTML = '';\n",
       "          dataTable['output_type'] = 'display_data';\n",
       "          await google.colab.output.renderOutput(dataTable, element);\n",
       "          const docLink = document.createElement('div');\n",
       "          docLink.innerHTML = docLinkHtml;\n",
       "          element.appendChild(docLink);\n",
       "        }\n",
       "      </script>\n",
       "    </div>\n",
       "  </div>\n",
       "  "
      ],
      "text/plain": [
       "                      loan_amnt  int_rate  installment  annual_inc       dti  \\\n",
       "loan_amnt              1.000000  0.168921     0.953929    0.336887  0.016636   \n",
       "int_rate               0.168921  1.000000     0.162758   -0.056771  0.079038   \n",
       "installment            0.953929  0.162758     1.000000    0.330381  0.015786   \n",
       "annual_inc             0.336887 -0.056771     0.330381    1.000000 -0.081685   \n",
       "dti                    0.016636  0.079038     0.015786   -0.081685  1.000000   \n",
       "open_acc               0.198556  0.011649     0.188973    0.136150  0.136181   \n",
       "pub_rec               -0.077779  0.060986    -0.067892   -0.013720 -0.017639   \n",
       "revol_bal              0.328320 -0.011280     0.316455    0.299773  0.063571   \n",
       "revol_util             0.099911  0.293659     0.123915    0.027871  0.088375   \n",
       "total_acc              0.223886 -0.036404     0.202430    0.193023  0.102128   \n",
       "mort_acc               0.222315 -0.082583     0.193694    0.236320 -0.025439   \n",
       "pub_rec_bankruptcies  -0.106539  0.057450    -0.098628   -0.050162 -0.014558   \n",
       "\n",
       "                      open_acc   pub_rec  revol_bal  revol_util  total_acc  \\\n",
       "loan_amnt             0.198556 -0.077779   0.328320    0.099911   0.223886   \n",
       "int_rate              0.011649  0.060986  -0.011280    0.293659  -0.036404   \n",
       "installment           0.188973 -0.067892   0.316455    0.123915   0.202430   \n",
       "annual_inc            0.136150 -0.013720   0.299773    0.027871   0.193023   \n",
       "dti                   0.136181 -0.017639   0.063571    0.088375   0.102128   \n",
       "open_acc              1.000000 -0.018392   0.221192   -0.131420   0.680728   \n",
       "pub_rec              -0.018392  1.000000  -0.101664   -0.075910   0.019723   \n",
       "revol_bal             0.221192 -0.101664   1.000000    0.226346   0.191616   \n",
       "revol_util           -0.131420 -0.075910   0.226346    1.000000  -0.104273   \n",
       "total_acc             0.680728  0.019723   0.191616   -0.104273   1.000000   \n",
       "mort_acc              0.109205  0.011552   0.194925    0.007514   0.381072   \n",
       "pub_rec_bankruptcies -0.027732  0.699408  -0.124532   -0.086751   0.042035   \n",
       "\n",
       "                      mort_acc  pub_rec_bankruptcies  \n",
       "loan_amnt             0.222315             -0.106539  \n",
       "int_rate             -0.082583              0.057450  \n",
       "installment           0.193694             -0.098628  \n",
       "annual_inc            0.236320             -0.050162  \n",
       "dti                  -0.025439             -0.014558  \n",
       "open_acc              0.109205             -0.027732  \n",
       "pub_rec               0.011552              0.699408  \n",
       "revol_bal             0.194925             -0.124532  \n",
       "revol_util            0.007514             -0.086751  \n",
       "total_acc             0.381072              0.042035  \n",
       "mort_acc              1.000000              0.027239  \n",
       "pub_rec_bankruptcies  0.027239              1.000000  "
      ]
     },
     "execution_count": 11,
     "metadata": {},
     "output_type": "execute_result"
    }
   ],
   "source": [
    "#explore correlation between the continuous feature variables\n",
    "df.corr(method='pearson') "
   ]
  },
  {
   "cell_type": "code",
   "execution_count": 12,
   "metadata": {
    "colab": {
     "base_uri": "https://localhost:8080/",
     "height": 440
    },
    "id": "5Hgwl-WQC2Io",
    "outputId": "2a67d9b3-2b4d-43ba-fd09-39c61284bca6"
   },
   "outputs": [
    {
     "data": {
      "text/plain": [
       "(10.0, 0.0)"
      ]
     },
     "execution_count": 12,
     "metadata": {},
     "output_type": "execute_result"
    },
    {
     "data": {
      "image/png": "[encoded data removed]",
      "text/plain": [
       "<Figure size 864x360 with 2 Axes>"
      ]
     },
     "metadata": {
      "needs_background": "light"
     },
     "output_type": "display_data"
    }
   ],
   "source": [
    "plt.figure(figsize=(12,5))\n",
    "df_corr = df.corr()\n",
    "ax = sns.heatmap(df_corr, annot=True) #notation: \"annot\" not \"annote\"\n",
    "bottom, top = ax.get_ylim()\n",
    "ax.set_ylim(bottom - 2, top - 0)"
   ]
  },
  {
   "cell_type": "markdown",
   "metadata": {
    "id": "f6zlO7cPC2Ip"
   },
   "source": [
    "**I noticed almost perfect correlation with the \"installment\" feature.**"
   ]
  },
  {
   "cell_type": "code",
   "execution_count": 13,
   "metadata": {
    "colab": {
     "base_uri": "https://localhost:8080/"
    },
    "id": "Qxg8GVT1C2Ip",
    "outputId": "caba0c10-90b4-4520-ebbd-3330b8db3b95"
   },
   "outputs": [
    {
     "name": "stdout",
     "output_type": "stream",
     "text": [
      "The monthly payment owed by the borrower if the loan originates.\n"
     ]
    }
   ],
   "source": [
    "feat_info(\"installment\")"
   ]
  },
  {
   "cell_type": "code",
   "execution_count": 14,
   "metadata": {
    "colab": {
     "base_uri": "https://localhost:8080/"
    },
    "id": "dLfQjjapC2Iq",
    "outputId": "1ef4da72-e478-4428-ae2f-fcad1b72a608"
   },
   "outputs": [
    {
     "name": "stdout",
     "output_type": "stream",
     "text": [
      "The listed amount of the loan applied for by the borrower. If at some point in time, the credit department reduces the loan amount, then it will be reflected in this value.\n"
     ]
    }
   ],
   "source": [
    "feat_info(\"loan_amnt\")"
   ]
  },
  {
   "cell_type": "code",
   "execution_count": 14,
   "metadata": {
    "id": "o3VUCUqeC2Iq"
   },
   "outputs": [],
   "source": []
  },
  {
   "cell_type": "code",
   "execution_count": 15,
   "metadata": {
    "colab": {
     "base_uri": "https://localhost:8080/",
     "height": 514
    },
    "id": "U2LVrBpWC2Iq",
    "outputId": "70f81e8f-ef8d-487b-b256-325e025858a7"
   },
   "outputs": [
    {
     "data": {
      "text/plain": [
       "<matplotlib.axes._subplots.AxesSubplot at 0x7f4c5cc3ae10>"
      ]
     },
     "execution_count": 15,
     "metadata": {},
     "output_type": "execute_result"
    },
    {
     "data": {
      "image/png": "[encoded data removed]",
      "text/plain": [
       "<Figure size 720x576 with 1 Axes>"
      ]
     },
     "metadata": {
      "needs_background": "light"
     },
     "output_type": "display_data"
    }
   ],
   "source": [
    "plt.figure(figsize=(10,8))\n",
    "sns.scatterplot(x='installment',y='loan_amnt',data=df)"
   ]
  },
  {
   "cell_type": "code",
   "execution_count": 15,
   "metadata": {
    "id": "ArgmJSZPC2Ir"
   },
   "outputs": [],
   "source": []
  },
  {
   "cell_type": "markdown",
   "metadata": {
    "id": "FFgce8NrC2Ir"
   },
   "source": [
    "**the relationship between the loan_status and the Loan Amount.**"
   ]
  },
  {
   "cell_type": "code",
   "execution_count": 16,
   "metadata": {
    "colab": {
     "base_uri": "https://localhost:8080/",
     "height": 297
    },
    "id": "6iWwxuwEC2Ir",
    "outputId": "df96ea2f-9abe-46d5-a216-2f888d1486cd"
   },
   "outputs": [
    {
     "data": {
      "text/plain": [
       "<matplotlib.axes._subplots.AxesSubplot at 0x7f4c5a113410>"
      ]
     },
     "execution_count": 16,
     "metadata": {},
     "output_type": "execute_result"
    },
    {
     "data": {
      "image/png": "[encoded data removed]",
      "text/plain": [
       "<Figure size 432x288 with 1 Axes>"
      ]
     },
     "metadata": {
      "needs_background": "light"
     },
     "output_type": "display_data"
    }
   ],
   "source": [
    "sns.boxplot(x=\"loan_status\", y=\"loan_amnt\", data=df)"
   ]
  },
  {
   "cell_type": "code",
   "execution_count": 16,
   "metadata": {
    "id": "k__U4qJAC2Is"
   },
   "outputs": [],
   "source": []
  },
  {
   "cell_type": "markdown",
   "metadata": {
    "id": "fb__E2HqC2Is"
   },
   "source": [
    "**TASK: Calculate the summary statistics for the loan amount, grouped by the loan_status.**"
   ]
  },
  {
   "cell_type": "code",
   "execution_count": 17,
   "metadata": {
    "colab": {
     "base_uri": "https://localhost:8080/",
     "height": 142
    },
    "id": "xNRs0hyLC2Is",
    "outputId": "ad26a9a5-bf8d-441b-a24d-ae67a1fd36cf"
   },
   "outputs": [
    {
     "data": {
      "text/html": [
       "\n",
       "  <div id=\"df-6db50e89-2d5b-4b81-b8d3-72ff7b5b0b33\">\n",
       "    <div class=\"colab-df-container\">\n",
       "      <div>\n",
       "<style scoped>\n",
       "    .dataframe tbody tr th:only-of-type {\n",
       "        vertical-align: middle;\n",
       "    }\n",
       "\n",
       "    .dataframe tbody tr th {\n",
       "        vertical-align: top;\n",
       "    }\n",
       "\n",
       "    .dataframe thead th {\n",
       "        text-align: right;\n",
       "    }\n",
       "</style>\n",
       "<table border=\"1\" class=\"dataframe\">\n",
       "  <thead>\n",
       "    <tr style=\"text-align: right;\">\n",
       "      <th></th>\n",
       "      <th>count</th>\n",
       "      <th>mean</th>\n",
       "      <th>std</th>\n",
       "      <th>min</th>\n",
       "      <th>25%</th>\n",
       "      <th>50%</th>\n",
       "      <th>75%</th>\n",
       "      <th>max</th>\n",
       "    </tr>\n",
       "    <tr>\n",
       "      <th>loan_status</th>\n",
       "      <th></th>\n",
       "      <th></th>\n",
       "      <th></th>\n",
       "      <th></th>\n",
       "      <th></th>\n",
       "      <th></th>\n",
       "      <th></th>\n",
       "      <th></th>\n",
       "    </tr>\n",
       "  </thead>\n",
       "  <tbody>\n",
       "    <tr>\n",
       "      <th>Charged Off</th>\n",
       "      <td>77673.0</td>\n",
       "      <td>15126.300967</td>\n",
       "      <td>8505.090557</td>\n",
       "      <td>1000.0</td>\n",
       "      <td>8525.0</td>\n",
       "      <td>14000.0</td>\n",
       "      <td>20000.0</td>\n",
       "      <td>40000.0</td>\n",
       "    </tr>\n",
       "    <tr>\n",
       "      <th>Fully Paid</th>\n",
       "      <td>318357.0</td>\n",
       "      <td>13866.878771</td>\n",
       "      <td>8302.319699</td>\n",
       "      <td>500.0</td>\n",
       "      <td>7500.0</td>\n",
       "      <td>12000.0</td>\n",
       "      <td>19225.0</td>\n",
       "      <td>40000.0</td>\n",
       "    </tr>\n",
       "  </tbody>\n",
       "</table>\n",
       "</div>\n",
       "      <button class=\"colab-df-convert\" onclick=\"convertToInteractive('df-6db50e89-2d5b-4b81-b8d3-72ff7b5b0b33')\"\n",
       "              title=\"Convert this dataframe to an interactive table.\"\n",
       "              style=\"display:none;\">\n",
       "        \n",
       "  <svg xmlns=\"http://www.w3.org/2000/svg\" height=\"24px\"viewBox=\"0 0 24 24\"\n",
       "       width=\"24px\">\n",
       "    <path d=\"M0 0h24v24H0V0z\" fill=\"none\"/>\n",
       "    <path d=\"M18.56 5.44l.94 2.06.94-2.06 2.06-.94-2.06-.94-.94-2.06-.94 2.06-2.06.94zm-11 1L8.5 8.5l.94-2.06 2.06-.94-2.06-.94L8.5 2.5l-.94 2.06-2.06.94zm10 10l.94 2.06.94-2.06 2.06-.94-2.06-.94-.94-2.06-.94 2.06-2.06.94z\"/><path d=\"M17.41 7.96l-1.37-1.37c-.4-.4-.92-.59-1.43-.59-.52 0-1.04.2-1.43.59L10.3 9.45l-7.72 7.72c-.78.78-.78 2.05 0 2.83L4 21.41c.39.39.9.59 1.41.59.51 0 1.02-.2 1.41-.59l7.78-7.78 2.81-2.81c.8-.78.8-2.07 0-2.86zM5.41 20L4 18.59l7.72-7.72 1.47 1.35L5.41 20z\"/>\n",
       "  </svg>\n",
       "      </button>\n",
       "      \n",
       "  <style>\n",
       "    .colab-df-container {\n",
       "      display:flex;\n",
       "      flex-wrap:wrap;\n",
       "      gap: 12px;\n",
       "    }\n",
       "\n",
       "    .colab-df-convert {\n",
       "      background-color: #E8F0FE;\n",
       "      border: none;\n",
       "      border-radius: 50%;\n",
       "      cursor: pointer;\n",
       "      display: none;\n",
       "      fill: #1967D2;\n",
       "      height: 32px;\n",
       "      padding: 0 0 0 0;\n",
       "      width: 32px;\n",
       "    }\n",
       "\n",
       "    .colab-df-convert:hover {\n",
       "      background-color: #E2EBFA;\n",
       "      box-shadow: 0px 1px 2px rgba(60, 64, 67, 0.3), 0px 1px 3px 1px rgba(60, 64, 67, 0.15);\n",
       "      fill: #174EA6;\n",
       "    }\n",
       "\n",
       "    [theme=dark] .colab-df-convert {\n",
       "      background-color: #3B4455;\n",
       "      fill: #D2E3FC;\n",
       "    }\n",
       "\n",
       "    [theme=dark] .colab-df-convert:hover {\n",
       "      background-color: #434B5C;\n",
       "      box-shadow: 0px 1px 3px 1px rgba(0, 0, 0, 0.15);\n",
       "      filter: drop-shadow(0px 1px 2px rgba(0, 0, 0, 0.3));\n",
       "      fill: #FFFFFF;\n",
       "    }\n",
       "  </style>\n",
       "\n",
       "      <script>\n",
       "        const buttonEl =\n",
       "          document.querySelector('#df-6db50e89-2d5b-4b81-b8d3-72ff7b5b0b33 button.colab-df-convert');\n",
       "        buttonEl.style.display =\n",
       "          google.colab.kernel.accessAllowed ? 'block' : 'none';\n",
       "\n",
       "        async function convertToInteractive(key) {\n",
       "          const element = document.querySelector('#df-6db50e89-2d5b-4b81-b8d3-72ff7b5b0b33');\n",
       "          const dataTable =\n",
       "            await google.colab.kernel.invokeFunction('convertToInteractive',\n",
       "                                                     [key], {});\n",
       "          if (!dataTable) return;\n",
       "\n",
       "          const docLinkHtml = 'Like what you see? Visit the ' +\n",
       "            '<a target=\"_blank\" href=https://colab.research.google.com/notebooks/data_table.ipynb>data table notebook</a>'\n",
       "            + ' to learn more about interactive tables.';\n",
       "          element.innerHTML = '';\n",
       "          dataTable['output_type'] = 'display_data';\n",
       "          await google.colab.output.renderOutput(dataTable, element);\n",
       "          const docLink = document.createElement('div');\n",
       "          docLink.innerHTML = docLinkHtml;\n",
       "          element.appendChild(docLink);\n",
       "        }\n",
       "      </script>\n",
       "    </div>\n",
       "  </div>\n",
       "  "
      ],
      "text/plain": [
       "                count          mean          std     min     25%      50%  \\\n",
       "loan_status                                                                 \n",
       "Charged Off   77673.0  15126.300967  8505.090557  1000.0  8525.0  14000.0   \n",
       "Fully Paid   318357.0  13866.878771  8302.319699   500.0  7500.0  12000.0   \n",
       "\n",
       "                 75%      max  \n",
       "loan_status                    \n",
       "Charged Off  20000.0  40000.0  \n",
       "Fully Paid   19225.0  40000.0  "
      ]
     },
     "execution_count": 17,
     "metadata": {},
     "output_type": "execute_result"
    }
   ],
   "source": [
    "df.groupby([\"loan_status\"])[\"loan_amnt\"].describe()"
   ]
  },
  {
   "cell_type": "code",
   "execution_count": 17,
   "metadata": {
    "id": "6wFbxqnmC2It"
   },
   "outputs": [],
   "source": []
  },
  {
   "cell_type": "markdown",
   "metadata": {
    "id": "6gpHh8ETC2It"
   },
   "source": [
    "**I explored the unique of Grade and SubGrade columns that LendingClub attributes to the loans.**"
   ]
  },
  {
   "cell_type": "code",
   "execution_count": 18,
   "metadata": {
    "colab": {
     "base_uri": "https://localhost:8080/"
    },
    "id": "lmAmd-XNC2It",
    "outputId": "46203561-0226-4adf-ce5c-53b6fefebb13"
   },
   "outputs": [
    {
     "data": {
      "text/plain": [
       "['A', 'B', 'C', 'D', 'E', 'F', 'G']"
      ]
     },
     "execution_count": 18,
     "metadata": {},
     "output_type": "execute_result"
    }
   ],
   "source": [
    "sorted(df.grade.unique())"
   ]
  },
  {
   "cell_type": "code",
   "execution_count": 19,
   "metadata": {
    "colab": {
     "base_uri": "https://localhost:8080/"
    },
    "id": "_V9L4kEkC2Iu",
    "outputId": "5d9a4e3b-5005-4b08-b221-bd30a53ce63c"
   },
   "outputs": [
    {
     "data": {
      "text/plain": [
       "['A1',\n",
       " 'A2',\n",
       " 'A3',\n",
       " 'A4',\n",
       " 'A5',\n",
       " 'B1',\n",
       " 'B2',\n",
       " 'B3',\n",
       " 'B4',\n",
       " 'B5',\n",
       " 'C1',\n",
       " 'C2',\n",
       " 'C3',\n",
       " 'C4',\n",
       " 'C5',\n",
       " 'D1',\n",
       " 'D2',\n",
       " 'D3',\n",
       " 'D4',\n",
       " 'D5',\n",
       " 'E1',\n",
       " 'E2',\n",
       " 'E3',\n",
       " 'E4',\n",
       " 'E5',\n",
       " 'F1',\n",
       " 'F2',\n",
       " 'F3',\n",
       " 'F4',\n",
       " 'F5',\n",
       " 'G1',\n",
       " 'G2',\n",
       " 'G3',\n",
       " 'G4',\n",
       " 'G5']"
      ]
     },
     "execution_count": 19,
     "metadata": {},
     "output_type": "execute_result"
    }
   ],
   "source": [
    "sorted(df.sub_grade.unique())"
   ]
  },
  {
   "cell_type": "code",
   "execution_count": 19,
   "metadata": {
    "id": "vp8xcPrEC2Iu"
   },
   "outputs": [],
   "source": []
  },
  {
   "cell_type": "markdown",
   "metadata": {
    "id": "xkN4XKk0C2Iv"
   },
   "source": [
    "**Created a countplot per grade. Set the hue to the loan_status label.**"
   ]
  },
  {
   "cell_type": "code",
   "execution_count": 20,
   "metadata": {
    "colab": {
     "base_uri": "https://localhost:8080/",
     "height": 296
    },
    "id": "Rpp0O3f2C2Iv",
    "outputId": "fcbfd5ab-2678-4cac-acfa-d2ca08c6d4b9"
   },
   "outputs": [
    {
     "data": {
      "text/plain": [
       "<matplotlib.axes._subplots.AxesSubplot at 0x7f4c58876110>"
      ]
     },
     "execution_count": 20,
     "metadata": {},
     "output_type": "execute_result"
    },
    {
     "data": {
      "image/png": "[encoded data removed]",
      "text/plain": [
       "<Figure size 432x288 with 1 Axes>"
      ]
     },
     "metadata": {
      "needs_background": "light"
     },
     "output_type": "display_data"
    }
   ],
   "source": [
    "sns.countplot(x=\"grade\", data=df, hue=\"loan_status\")"
   ]
  },
  {
   "cell_type": "code",
   "execution_count": 20,
   "metadata": {
    "id": "kmo1QkrcC2Iv"
   },
   "outputs": [],
   "source": []
  },
  {
   "cell_type": "markdown",
   "metadata": {
    "id": "g9DRFHkRC2Iw"
   },
   "source": [
    "**Display a count plot per subgrade.**"
   ]
  },
  {
   "cell_type": "code",
   "execution_count": 21,
   "metadata": {
    "colab": {
     "base_uri": "https://localhost:8080/",
     "height": 352
    },
    "id": "YWbNPy5iC2Iw",
    "outputId": "0e702bed-395a-4fa1-b20a-3f69131bc3af"
   },
   "outputs": [
    {
     "data": {
      "text/plain": [
       "<matplotlib.axes._subplots.AxesSubplot at 0x7f4c587953d0>"
      ]
     },
     "execution_count": 21,
     "metadata": {},
     "output_type": "execute_result"
    },
    {
     "data": {
      "image/png": "[encoded data removed]",
      "text/plain": [
       "<Figure size 720x360 with 1 Axes>"
      ]
     },
     "metadata": {
      "needs_background": "light"
     },
     "output_type": "display_data"
    }
   ],
   "source": [
    "plt.figure(figsize=(10,5))\n",
    "sns.countplot(x=\"sub_grade\", data=df, hue_order=\"loan_status\", order= sorted(df.sub_grade.unique()), palette=\"Set3\")"
   ]
  },
  {
   "cell_type": "code",
   "execution_count": 22,
   "metadata": {
    "colab": {
     "base_uri": "https://localhost:8080/",
     "height": 352
    },
    "id": "7UjFpy0ZC2Iw",
    "outputId": "76efa9d9-d234-47d8-cfa5-4392ccb2f891"
   },
   "outputs": [
    {
     "data": {
      "text/plain": [
       "<matplotlib.axes._subplots.AxesSubplot at 0x7f4c58706410>"
      ]
     },
     "execution_count": 22,
     "metadata": {},
     "output_type": "execute_result"
    },
    {
     "data": {
      "image/png": "[encoded data removed]",
      "text/plain": [
       "<Figure size 720x360 with 1 Axes>"
      ]
     },
     "metadata": {
      "needs_background": "light"
     },
     "output_type": "display_data"
    }
   ],
   "source": [
    "plt.figure(figsize=(10,5))\n",
    "sns.countplot(x=\"sub_grade\", data=df, hue=\"loan_status\", order= sorted(df.sub_grade.unique()), palette=\"seismic\")"
   ]
  },
  {
   "cell_type": "code",
   "execution_count": 22,
   "metadata": {
    "id": "hICeFfLUC2Ix"
   },
   "outputs": [],
   "source": []
  },
  {
   "cell_type": "markdown",
   "metadata": {
    "id": "bLcD4NckC2Ix"
   },
   "source": [
    "**It looks like F and G subgrades don't get paid back that often. I isloated those and recreated the countplot just for those subgrades.**"
   ]
  },
  {
   "cell_type": "code",
   "execution_count": 23,
   "metadata": {
    "id": "mG7NAr1aC2Iy"
   },
   "outputs": [],
   "source": [
    "f_and_g=df[(df[\"grade\"] == \"G\") | (df[\"grade\"] == \"F\")]"
   ]
  },
  {
   "cell_type": "code",
   "execution_count": 24,
   "metadata": {
    "colab": {
     "base_uri": "https://localhost:8080/",
     "height": 297
    },
    "id": "4n1xRQd8C2Iy",
    "outputId": "3532b519-d942-481e-f211-1e5bf95ceae3"
   },
   "outputs": [
    {
     "data": {
      "text/plain": [
       "<matplotlib.axes._subplots.AxesSubplot at 0x7f4c58735150>"
      ]
     },
     "execution_count": 24,
     "metadata": {},
     "output_type": "execute_result"
    },
    {
     "data": {
      "image/png": "[encoded data removed]",
      "text/plain": [
       "<Figure size 864x288 with 1 Axes>"
      ]
     },
     "metadata": {
      "needs_background": "light"
     },
     "output_type": "display_data"
    }
   ],
   "source": [
    "plt.figure(figsize=(12,4))\n",
    "sns.countplot(x=\"sub_grade\", data=f_and_g, order= sorted(f_and_g.sub_grade.unique()), palette=\"seismic\",hue='loan_status')"
   ]
  },
  {
   "cell_type": "code",
   "execution_count": 24,
   "metadata": {
    "id": "B-eW_xiiC2Iy"
   },
   "outputs": [],
   "source": []
  },
  {
   "cell_type": "markdown",
   "metadata": {
    "id": "E2-McFCqC2Iz"
   },
   "source": [
    "**Created a new column called 'loan_repaid' which will contain a 1 if the loan status was \"Fully Paid\" and a 0 if it was \"Charged Off\".**"
   ]
  },
  {
   "cell_type": "code",
   "execution_count": 25,
   "metadata": {
    "colab": {
     "base_uri": "https://localhost:8080/"
    },
    "id": "5mGSab3dC2Iz",
    "outputId": "02683449-4b4b-4201-b49d-055af7ab5a69"
   },
   "outputs": [
    {
     "data": {
      "text/plain": [
       "array(['Fully Paid', 'Charged Off'], dtype=object)"
      ]
     },
     "execution_count": 25,
     "metadata": {},
     "output_type": "execute_result"
    }
   ],
   "source": [
    "df[\"loan_status\"].unique()"
   ]
  },
  {
   "cell_type": "code",
   "execution_count": 25,
   "metadata": {
    "id": "PsdA3Oo8C2Iz"
   },
   "outputs": [],
   "source": []
  },
  {
   "cell_type": "code",
   "execution_count": 26,
   "metadata": {
    "id": "BegJNhqhC2I0"
   },
   "outputs": [],
   "source": [
    "df['loan_repaid'] = df[\"loan_status\"].map({'Fully Paid':1, 'Charged Off':0}) "
   ]
  },
  {
   "cell_type": "code",
   "execution_count": 27,
   "metadata": {
    "colab": {
     "base_uri": "https://localhost:8080/",
     "height": 419
    },
    "id": "Hyl-h3P2C2I0",
    "outputId": "44da4dd1-8322-467b-c713-29f7f335a9e8"
   },
   "outputs": [
    {
     "data": {
      "text/html": [
       "\n",
       "  <div id=\"df-41949493-457d-4d9a-9837-cc34ac636659\">\n",
       "    <div class=\"colab-df-container\">\n",
       "      <div>\n",
       "<style scoped>\n",
       "    .dataframe tbody tr th:only-of-type {\n",
       "        vertical-align: middle;\n",
       "    }\n",
       "\n",
       "    .dataframe tbody tr th {\n",
       "        vertical-align: top;\n",
       "    }\n",
       "\n",
       "    .dataframe thead th {\n",
       "        text-align: right;\n",
       "    }\n",
       "</style>\n",
       "<table border=\"1\" class=\"dataframe\">\n",
       "  <thead>\n",
       "    <tr style=\"text-align: right;\">\n",
       "      <th></th>\n",
       "      <th>loan_repaid</th>\n",
       "      <th>loan_status</th>\n",
       "    </tr>\n",
       "  </thead>\n",
       "  <tbody>\n",
       "    <tr>\n",
       "      <th>0</th>\n",
       "      <td>1</td>\n",
       "      <td>Fully Paid</td>\n",
       "    </tr>\n",
       "    <tr>\n",
       "      <th>1</th>\n",
       "      <td>1</td>\n",
       "      <td>Fully Paid</td>\n",
       "    </tr>\n",
       "    <tr>\n",
       "      <th>2</th>\n",
       "      <td>1</td>\n",
       "      <td>Fully Paid</td>\n",
       "    </tr>\n",
       "    <tr>\n",
       "      <th>3</th>\n",
       "      <td>1</td>\n",
       "      <td>Fully Paid</td>\n",
       "    </tr>\n",
       "    <tr>\n",
       "      <th>4</th>\n",
       "      <td>0</td>\n",
       "      <td>Charged Off</td>\n",
       "    </tr>\n",
       "    <tr>\n",
       "      <th>...</th>\n",
       "      <td>...</td>\n",
       "      <td>...</td>\n",
       "    </tr>\n",
       "    <tr>\n",
       "      <th>396025</th>\n",
       "      <td>1</td>\n",
       "      <td>Fully Paid</td>\n",
       "    </tr>\n",
       "    <tr>\n",
       "      <th>396026</th>\n",
       "      <td>1</td>\n",
       "      <td>Fully Paid</td>\n",
       "    </tr>\n",
       "    <tr>\n",
       "      <th>396027</th>\n",
       "      <td>1</td>\n",
       "      <td>Fully Paid</td>\n",
       "    </tr>\n",
       "    <tr>\n",
       "      <th>396028</th>\n",
       "      <td>1</td>\n",
       "      <td>Fully Paid</td>\n",
       "    </tr>\n",
       "    <tr>\n",
       "      <th>396029</th>\n",
       "      <td>1</td>\n",
       "      <td>Fully Paid</td>\n",
       "    </tr>\n",
       "  </tbody>\n",
       "</table>\n",
       "<p>396030 rows × 2 columns</p>\n",
       "</div>\n",
       "      <button class=\"colab-df-convert\" onclick=\"convertToInteractive('df-41949493-457d-4d9a-9837-cc34ac636659')\"\n",
       "              title=\"Convert this dataframe to an interactive table.\"\n",
       "              style=\"display:none;\">\n",
       "        \n",
       "  <svg xmlns=\"http://www.w3.org/2000/svg\" height=\"24px\"viewBox=\"0 0 24 24\"\n",
       "       width=\"24px\">\n",
       "    <path d=\"M0 0h24v24H0V0z\" fill=\"none\"/>\n",
       "    <path d=\"M18.56 5.44l.94 2.06.94-2.06 2.06-.94-2.06-.94-.94-2.06-.94 2.06-2.06.94zm-11 1L8.5 8.5l.94-2.06 2.06-.94-2.06-.94L8.5 2.5l-.94 2.06-2.06.94zm10 10l.94 2.06.94-2.06 2.06-.94-2.06-.94-.94-2.06-.94 2.06-2.06.94z\"/><path d=\"M17.41 7.96l-1.37-1.37c-.4-.4-.92-.59-1.43-.59-.52 0-1.04.2-1.43.59L10.3 9.45l-7.72 7.72c-.78.78-.78 2.05 0 2.83L4 21.41c.39.39.9.59 1.41.59.51 0 1.02-.2 1.41-.59l7.78-7.78 2.81-2.81c.8-.78.8-2.07 0-2.86zM5.41 20L4 18.59l7.72-7.72 1.47 1.35L5.41 20z\"/>\n",
       "  </svg>\n",
       "      </button>\n",
       "      \n",
       "  <style>\n",
       "    .colab-df-container {\n",
       "      display:flex;\n",
       "      flex-wrap:wrap;\n",
       "      gap: 12px;\n",
       "    }\n",
       "\n",
       "    .colab-df-convert {\n",
       "      background-color: #E8F0FE;\n",
       "      border: none;\n",
       "      border-radius: 50%;\n",
       "      cursor: pointer;\n",
       "      display: none;\n",
       "      fill: #1967D2;\n",
       "      height: 32px;\n",
       "      padding: 0 0 0 0;\n",
       "      width: 32px;\n",
       "    }\n",
       "\n",
       "    .colab-df-convert:hover {\n",
       "      background-color: #E2EBFA;\n",
       "      box-shadow: 0px 1px 2px rgba(60, 64, 67, 0.3), 0px 1px 3px 1px rgba(60, 64, 67, 0.15);\n",
       "      fill: #174EA6;\n",
       "    }\n",
       "\n",
       "    [theme=dark] .colab-df-convert {\n",
       "      background-color: #3B4455;\n",
       "      fill: #D2E3FC;\n",
       "    }\n",
       "\n",
       "    [theme=dark] .colab-df-convert:hover {\n",
       "      background-color: #434B5C;\n",
       "      box-shadow: 0px 1px 3px 1px rgba(0, 0, 0, 0.15);\n",
       "      filter: drop-shadow(0px 1px 2px rgba(0, 0, 0, 0.3));\n",
       "      fill: #FFFFFF;\n",
       "    }\n",
       "  </style>\n",
       "\n",
       "      <script>\n",
       "        const buttonEl =\n",
       "          document.querySelector('#df-41949493-457d-4d9a-9837-cc34ac636659 button.colab-df-convert');\n",
       "        buttonEl.style.display =\n",
       "          google.colab.kernel.accessAllowed ? 'block' : 'none';\n",
       "\n",
       "        async function convertToInteractive(key) {\n",
       "          const element = document.querySelector('#df-41949493-457d-4d9a-9837-cc34ac636659');\n",
       "          const dataTable =\n",
       "            await google.colab.kernel.invokeFunction('convertToInteractive',\n",
       "                                                     [key], {});\n",
       "          if (!dataTable) return;\n",
       "\n",
       "          const docLinkHtml = 'Like what you see? Visit the ' +\n",
       "            '<a target=\"_blank\" href=https://colab.research.google.com/notebooks/data_table.ipynb>data table notebook</a>'\n",
       "            + ' to learn more about interactive tables.';\n",
       "          element.innerHTML = '';\n",
       "          dataTable['output_type'] = 'display_data';\n",
       "          await google.colab.output.renderOutput(dataTable, element);\n",
       "          const docLink = document.createElement('div');\n",
       "          docLink.innerHTML = docLinkHtml;\n",
       "          element.appendChild(docLink);\n",
       "        }\n",
       "      </script>\n",
       "    </div>\n",
       "  </div>\n",
       "  "
      ],
      "text/plain": [
       "        loan_repaid  loan_status\n",
       "0                 1   Fully Paid\n",
       "1                 1   Fully Paid\n",
       "2                 1   Fully Paid\n",
       "3                 1   Fully Paid\n",
       "4                 0  Charged Off\n",
       "...             ...          ...\n",
       "396025            1   Fully Paid\n",
       "396026            1   Fully Paid\n",
       "396027            1   Fully Paid\n",
       "396028            1   Fully Paid\n",
       "396029            1   Fully Paid\n",
       "\n",
       "[396030 rows x 2 columns]"
      ]
     },
     "execution_count": 27,
     "metadata": {},
     "output_type": "execute_result"
    }
   ],
   "source": [
    "df[['loan_repaid', 'loan_status']]"
   ]
  },
  {
   "cell_type": "code",
   "execution_count": 27,
   "metadata": {
    "id": "wDpLM3JPC2I0"
   },
   "outputs": [],
   "source": []
  },
  {
   "cell_type": "markdown",
   "metadata": {
    "id": "6lwTm876C2I1"
   },
   "source": [
    "**Create a bar plot showing the correlation of the numeric features to the new loan_repaid column**"
   ]
  },
  {
   "cell_type": "code",
   "execution_count": 28,
   "metadata": {
    "colab": {
     "base_uri": "https://localhost:8080/",
     "height": 382
    },
    "id": "7NM6uJXSC2I1",
    "outputId": "81f31ec8-74c9-414d-cd1e-9211eae7b300"
   },
   "outputs": [
    {
     "data": {
      "text/plain": [
       "<matplotlib.axes._subplots.AxesSubplot at 0x7f4c588e90d0>"
      ]
     },
     "execution_count": 28,
     "metadata": {},
     "output_type": "execute_result"
    },
    {
     "data": {
      "image/png": "[encoded data removed]",
      "text/plain": [
       "<Figure size 432x288 with 1 Axes>"
      ]
     },
     "metadata": {
      "needs_background": "light"
     },
     "output_type": "display_data"
    }
   ],
   "source": [
    "df.corr()['loan_repaid'][:-1].sort_values().plot(kind='bar')"
   ]
  },
  {
   "cell_type": "code",
   "execution_count": 28,
   "metadata": {
    "id": "ib6as3VkC2I1"
   },
   "outputs": [],
   "source": []
  },
  {
   "cell_type": "markdown",
   "metadata": {
    "id": "e2scQIkRC2I2"
   },
   "source": [
    "---\n",
    "---\n",
    "# Data PreProcessing\n",
    "\n",
    "**Remove or fill any missing data. Remove unnecessary or repetitive features. Convert categorical string features to dummy variables.**\n",
    "\n"
   ]
  },
  {
   "cell_type": "code",
   "execution_count": 29,
   "metadata": {
    "colab": {
     "base_uri": "https://localhost:8080/",
     "height": 467
    },
    "id": "oz_wbSdAC2I2",
    "outputId": "88979478-b5b2-4d56-f4af-7f1367eff3e7"
   },
   "outputs": [
    {
     "data": {
      "text/html": [
       "\n",
       "  <div id=\"df-c2d7beeb-eec2-4bd3-b403-dfd77893d09e\">\n",
       "    <div class=\"colab-df-container\">\n",
       "      <div>\n",
       "<style scoped>\n",
       "    .dataframe tbody tr th:only-of-type {\n",
       "        vertical-align: middle;\n",
       "    }\n",
       "\n",
       "    .dataframe tbody tr th {\n",
       "        vertical-align: top;\n",
       "    }\n",
       "\n",
       "    .dataframe thead th {\n",
       "        text-align: right;\n",
       "    }\n",
       "</style>\n",
       "<table border=\"1\" class=\"dataframe\">\n",
       "  <thead>\n",
       "    <tr style=\"text-align: right;\">\n",
       "      <th></th>\n",
       "      <th>loan_amnt</th>\n",
       "      <th>term</th>\n",
       "      <th>int_rate</th>\n",
       "      <th>installment</th>\n",
       "      <th>grade</th>\n",
       "      <th>sub_grade</th>\n",
       "      <th>emp_title</th>\n",
       "      <th>emp_length</th>\n",
       "      <th>home_ownership</th>\n",
       "      <th>annual_inc</th>\n",
       "      <th>...</th>\n",
       "      <th>pub_rec</th>\n",
       "      <th>revol_bal</th>\n",
       "      <th>revol_util</th>\n",
       "      <th>total_acc</th>\n",
       "      <th>initial_list_status</th>\n",
       "      <th>application_type</th>\n",
       "      <th>mort_acc</th>\n",
       "      <th>pub_rec_bankruptcies</th>\n",
       "      <th>address</th>\n",
       "      <th>loan_repaid</th>\n",
       "    </tr>\n",
       "  </thead>\n",
       "  <tbody>\n",
       "    <tr>\n",
       "      <th>0</th>\n",
       "      <td>10000.0</td>\n",
       "      <td>36 months</td>\n",
       "      <td>11.44</td>\n",
       "      <td>329.48</td>\n",
       "      <td>B</td>\n",
       "      <td>B4</td>\n",
       "      <td>Marketing</td>\n",
       "      <td>10+ years</td>\n",
       "      <td>RENT</td>\n",
       "      <td>117000.0</td>\n",
       "      <td>...</td>\n",
       "      <td>0.0</td>\n",
       "      <td>36369.0</td>\n",
       "      <td>41.8</td>\n",
       "      <td>25.0</td>\n",
       "      <td>w</td>\n",
       "      <td>INDIVIDUAL</td>\n",
       "      <td>0.0</td>\n",
       "      <td>0.0</td>\n",
       "      <td>0174 Michelle Gateway\\nMendozaberg, OK 22690</td>\n",
       "      <td>1</td>\n",
       "    </tr>\n",
       "    <tr>\n",
       "      <th>1</th>\n",
       "      <td>8000.0</td>\n",
       "      <td>36 months</td>\n",
       "      <td>11.99</td>\n",
       "      <td>265.68</td>\n",
       "      <td>B</td>\n",
       "      <td>B5</td>\n",
       "      <td>Credit analyst</td>\n",
       "      <td>4 years</td>\n",
       "      <td>MORTGAGE</td>\n",
       "      <td>65000.0</td>\n",
       "      <td>...</td>\n",
       "      <td>0.0</td>\n",
       "      <td>20131.0</td>\n",
       "      <td>53.3</td>\n",
       "      <td>27.0</td>\n",
       "      <td>f</td>\n",
       "      <td>INDIVIDUAL</td>\n",
       "      <td>3.0</td>\n",
       "      <td>0.0</td>\n",
       "      <td>1076 Carney Fort Apt. 347\\nLoganmouth, SD 05113</td>\n",
       "      <td>1</td>\n",
       "    </tr>\n",
       "    <tr>\n",
       "      <th>2</th>\n",
       "      <td>15600.0</td>\n",
       "      <td>36 months</td>\n",
       "      <td>10.49</td>\n",
       "      <td>506.97</td>\n",
       "      <td>B</td>\n",
       "      <td>B3</td>\n",
       "      <td>Statistician</td>\n",
       "      <td>&lt; 1 year</td>\n",
       "      <td>RENT</td>\n",
       "      <td>43057.0</td>\n",
       "      <td>...</td>\n",
       "      <td>0.0</td>\n",
       "      <td>11987.0</td>\n",
       "      <td>92.2</td>\n",
       "      <td>26.0</td>\n",
       "      <td>f</td>\n",
       "      <td>INDIVIDUAL</td>\n",
       "      <td>0.0</td>\n",
       "      <td>0.0</td>\n",
       "      <td>87025 Mark Dale Apt. 269\\nNew Sabrina, WV 05113</td>\n",
       "      <td>1</td>\n",
       "    </tr>\n",
       "    <tr>\n",
       "      <th>3</th>\n",
       "      <td>7200.0</td>\n",
       "      <td>36 months</td>\n",
       "      <td>6.49</td>\n",
       "      <td>220.65</td>\n",
       "      <td>A</td>\n",
       "      <td>A2</td>\n",
       "      <td>Client Advocate</td>\n",
       "      <td>6 years</td>\n",
       "      <td>RENT</td>\n",
       "      <td>54000.0</td>\n",
       "      <td>...</td>\n",
       "      <td>0.0</td>\n",
       "      <td>5472.0</td>\n",
       "      <td>21.5</td>\n",
       "      <td>13.0</td>\n",
       "      <td>f</td>\n",
       "      <td>INDIVIDUAL</td>\n",
       "      <td>0.0</td>\n",
       "      <td>0.0</td>\n",
       "      <td>823 Reid Ford\\nDelacruzside, MA 00813</td>\n",
       "      <td>1</td>\n",
       "    </tr>\n",
       "    <tr>\n",
       "      <th>4</th>\n",
       "      <td>24375.0</td>\n",
       "      <td>60 months</td>\n",
       "      <td>17.27</td>\n",
       "      <td>609.33</td>\n",
       "      <td>C</td>\n",
       "      <td>C5</td>\n",
       "      <td>Destiny Management Inc.</td>\n",
       "      <td>9 years</td>\n",
       "      <td>MORTGAGE</td>\n",
       "      <td>55000.0</td>\n",
       "      <td>...</td>\n",
       "      <td>0.0</td>\n",
       "      <td>24584.0</td>\n",
       "      <td>69.8</td>\n",
       "      <td>43.0</td>\n",
       "      <td>f</td>\n",
       "      <td>INDIVIDUAL</td>\n",
       "      <td>1.0</td>\n",
       "      <td>0.0</td>\n",
       "      <td>679 Luna Roads\\nGreggshire, VA 11650</td>\n",
       "      <td>0</td>\n",
       "    </tr>\n",
       "  </tbody>\n",
       "</table>\n",
       "<p>5 rows × 28 columns</p>\n",
       "</div>\n",
       "      <button class=\"colab-df-convert\" onclick=\"convertToInteractive('df-c2d7beeb-eec2-4bd3-b403-dfd77893d09e')\"\n",
       "              title=\"Convert this dataframe to an interactive table.\"\n",
       "              style=\"display:none;\">\n",
       "        \n",
       "  <svg xmlns=\"http://www.w3.org/2000/svg\" height=\"24px\"viewBox=\"0 0 24 24\"\n",
       "       width=\"24px\">\n",
       "    <path d=\"M0 0h24v24H0V0z\" fill=\"none\"/>\n",
       "    <path d=\"M18.56 5.44l.94 2.06.94-2.06 2.06-.94-2.06-.94-.94-2.06-.94 2.06-2.06.94zm-11 1L8.5 8.5l.94-2.06 2.06-.94-2.06-.94L8.5 2.5l-.94 2.06-2.06.94zm10 10l.94 2.06.94-2.06 2.06-.94-2.06-.94-.94-2.06-.94 2.06-2.06.94z\"/><path d=\"M17.41 7.96l-1.37-1.37c-.4-.4-.92-.59-1.43-.59-.52 0-1.04.2-1.43.59L10.3 9.45l-7.72 7.72c-.78.78-.78 2.05 0 2.83L4 21.41c.39.39.9.59 1.41.59.51 0 1.02-.2 1.41-.59l7.78-7.78 2.81-2.81c.8-.78.8-2.07 0-2.86zM5.41 20L4 18.59l7.72-7.72 1.47 1.35L5.41 20z\"/>\n",
       "  </svg>\n",
       "      </button>\n",
       "      \n",
       "  <style>\n",
       "    .colab-df-container {\n",
       "      display:flex;\n",
       "      flex-wrap:wrap;\n",
       "      gap: 12px;\n",
       "    }\n",
       "\n",
       "    .colab-df-convert {\n",
       "      background-color: #E8F0FE;\n",
       "      border: none;\n",
       "      border-radius: 50%;\n",
       "      cursor: pointer;\n",
       "      display: none;\n",
       "      fill: #1967D2;\n",
       "      height: 32px;\n",
       "      padding: 0 0 0 0;\n",
       "      width: 32px;\n",
       "    }\n",
       "\n",
       "    .colab-df-convert:hover {\n",
       "      background-color: #E2EBFA;\n",
       "      box-shadow: 0px 1px 2px rgba(60, 64, 67, 0.3), 0px 1px 3px 1px rgba(60, 64, 67, 0.15);\n",
       "      fill: #174EA6;\n",
       "    }\n",
       "\n",
       "    [theme=dark] .colab-df-convert {\n",
       "      background-color: #3B4455;\n",
       "      fill: #D2E3FC;\n",
       "    }\n",
       "\n",
       "    [theme=dark] .colab-df-convert:hover {\n",
       "      background-color: #434B5C;\n",
       "      box-shadow: 0px 1px 3px 1px rgba(0, 0, 0, 0.15);\n",
       "      filter: drop-shadow(0px 1px 2px rgba(0, 0, 0, 0.3));\n",
       "      fill: #FFFFFF;\n",
       "    }\n",
       "  </style>\n",
       "\n",
       "      <script>\n",
       "        const buttonEl =\n",
       "          document.querySelector('#df-c2d7beeb-eec2-4bd3-b403-dfd77893d09e button.colab-df-convert');\n",
       "        buttonEl.style.display =\n",
       "          google.colab.kernel.accessAllowed ? 'block' : 'none';\n",
       "\n",
       "        async function convertToInteractive(key) {\n",
       "          const element = document.querySelector('#df-c2d7beeb-eec2-4bd3-b403-dfd77893d09e');\n",
       "          const dataTable =\n",
       "            await google.colab.kernel.invokeFunction('convertToInteractive',\n",
       "                                                     [key], {});\n",
       "          if (!dataTable) return;\n",
       "\n",
       "          const docLinkHtml = 'Like what you see? Visit the ' +\n",
       "            '<a target=\"_blank\" href=https://colab.research.google.com/notebooks/data_table.ipynb>data table notebook</a>'\n",
       "            + ' to learn more about interactive tables.';\n",
       "          element.innerHTML = '';\n",
       "          dataTable['output_type'] = 'display_data';\n",
       "          await google.colab.output.renderOutput(dataTable, element);\n",
       "          const docLink = document.createElement('div');\n",
       "          docLink.innerHTML = docLinkHtml;\n",
       "          element.appendChild(docLink);\n",
       "        }\n",
       "      </script>\n",
       "    </div>\n",
       "  </div>\n",
       "  "
      ],
      "text/plain": [
       "   loan_amnt        term  int_rate  installment grade sub_grade  \\\n",
       "0    10000.0   36 months     11.44       329.48     B        B4   \n",
       "1     8000.0   36 months     11.99       265.68     B        B5   \n",
       "2    15600.0   36 months     10.49       506.97     B        B3   \n",
       "3     7200.0   36 months      6.49       220.65     A        A2   \n",
       "4    24375.0   60 months     17.27       609.33     C        C5   \n",
       "\n",
       "                 emp_title emp_length home_ownership  annual_inc  ... pub_rec  \\\n",
       "0                Marketing  10+ years           RENT    117000.0  ...     0.0   \n",
       "1          Credit analyst     4 years       MORTGAGE     65000.0  ...     0.0   \n",
       "2             Statistician   < 1 year           RENT     43057.0  ...     0.0   \n",
       "3          Client Advocate    6 years           RENT     54000.0  ...     0.0   \n",
       "4  Destiny Management Inc.    9 years       MORTGAGE     55000.0  ...     0.0   \n",
       "\n",
       "  revol_bal revol_util total_acc initial_list_status  application_type  \\\n",
       "0   36369.0       41.8      25.0                   w        INDIVIDUAL   \n",
       "1   20131.0       53.3      27.0                   f        INDIVIDUAL   \n",
       "2   11987.0       92.2      26.0                   f        INDIVIDUAL   \n",
       "3    5472.0       21.5      13.0                   f        INDIVIDUAL   \n",
       "4   24584.0       69.8      43.0                   f        INDIVIDUAL   \n",
       "\n",
       "  mort_acc  pub_rec_bankruptcies  \\\n",
       "0      0.0                   0.0   \n",
       "1      3.0                   0.0   \n",
       "2      0.0                   0.0   \n",
       "3      0.0                   0.0   \n",
       "4      1.0                   0.0   \n",
       "\n",
       "                                           address  loan_repaid  \n",
       "0     0174 Michelle Gateway\\nMendozaberg, OK 22690            1  \n",
       "1  1076 Carney Fort Apt. 347\\nLoganmouth, SD 05113            1  \n",
       "2  87025 Mark Dale Apt. 269\\nNew Sabrina, WV 05113            1  \n",
       "3            823 Reid Ford\\nDelacruzside, MA 00813            1  \n",
       "4             679 Luna Roads\\nGreggshire, VA 11650            0  \n",
       "\n",
       "[5 rows x 28 columns]"
      ]
     },
     "execution_count": 29,
     "metadata": {},
     "output_type": "execute_result"
    }
   ],
   "source": [
    "df.head()"
   ]
  },
  {
   "cell_type": "code",
   "execution_count": 29,
   "metadata": {
    "id": "0-j7WwogC2I2"
   },
   "outputs": [],
   "source": []
  },
  {
   "cell_type": "markdown",
   "metadata": {
    "id": "XRj71UXUC2I3"
   },
   "source": [
    "# Missing Data\n"
   ]
  },
  {
   "cell_type": "code",
   "execution_count": 30,
   "metadata": {
    "colab": {
     "base_uri": "https://localhost:8080/"
    },
    "id": "U80WD8l1C2I3",
    "outputId": "250bd934-7956-4e55-ab8f-456e02f564fb"
   },
   "outputs": [
    {
     "data": {
      "text/plain": [
       "396030"
      ]
     },
     "execution_count": 30,
     "metadata": {},
     "output_type": "execute_result"
    }
   ],
   "source": [
    "len(df)"
   ]
  },
  {
   "cell_type": "code",
   "execution_count": 31,
   "metadata": {
    "colab": {
     "base_uri": "https://localhost:8080/"
    },
    "id": "2qMsYBvMC2I4",
    "outputId": "4e88193a-45f7-4418-eede-b50a89c1c4bc"
   },
   "outputs": [
    {
     "data": {
      "text/plain": [
       "loan_amnt                   0\n",
       "term                        0\n",
       "int_rate                    0\n",
       "installment                 0\n",
       "grade                       0\n",
       "sub_grade                   0\n",
       "emp_title               22927\n",
       "emp_length              18301\n",
       "home_ownership              0\n",
       "annual_inc                  0\n",
       "verification_status         0\n",
       "issue_d                     0\n",
       "loan_status                 0\n",
       "purpose                     0\n",
       "title                    1755\n",
       "dti                         0\n",
       "earliest_cr_line            0\n",
       "open_acc                    0\n",
       "pub_rec                     0\n",
       "revol_bal                   0\n",
       "revol_util                276\n",
       "total_acc                   0\n",
       "initial_list_status         0\n",
       "application_type            0\n",
       "mort_acc                37795\n",
       "pub_rec_bankruptcies      535\n",
       "address                     0\n",
       "loan_repaid                 0\n",
       "dtype: int64"
      ]
     },
     "execution_count": 31,
     "metadata": {},
     "output_type": "execute_result"
    }
   ],
   "source": [
    "#displays the total count of missing values per column\n",
    "df.isnull().sum()"
   ]
  },
  {
   "cell_type": "code",
   "execution_count": 31,
   "metadata": {
    "id": "DaQ4UKW3C2I4"
   },
   "outputs": [],
   "source": []
  },
  {
   "cell_type": "code",
   "execution_count": 32,
   "metadata": {
    "colab": {
     "base_uri": "https://localhost:8080/"
    },
    "id": "bMcn8KtdC2I5",
    "outputId": "44e10de0-6e52-4bc9-93b8-b155bde81170"
   },
   "outputs": [
    {
     "data": {
      "text/plain": [
       "loan_amnt               0.000000\n",
       "term                    0.000000\n",
       "int_rate                0.000000\n",
       "installment             0.000000\n",
       "grade                   0.000000\n",
       "sub_grade               0.000000\n",
       "emp_title               5.789208\n",
       "emp_length              4.621115\n",
       "home_ownership          0.000000\n",
       "annual_inc              0.000000\n",
       "verification_status     0.000000\n",
       "issue_d                 0.000000\n",
       "loan_status             0.000000\n",
       "purpose                 0.000000\n",
       "title                   0.443148\n",
       "dti                     0.000000\n",
       "earliest_cr_line        0.000000\n",
       "open_acc                0.000000\n",
       "pub_rec                 0.000000\n",
       "revol_bal               0.000000\n",
       "revol_util              0.069692\n",
       "total_acc               0.000000\n",
       "initial_list_status     0.000000\n",
       "application_type        0.000000\n",
       "mort_acc                9.543469\n",
       "pub_rec_bankruptcies    0.135091\n",
       "address                 0.000000\n",
       "loan_repaid             0.000000\n",
       "dtype: float64"
      ]
     },
     "execution_count": 32,
     "metadata": {},
     "output_type": "execute_result"
    }
   ],
   "source": [
    "#Convert this Series to be in term of percentage of the total DataFrame\n",
    "100* df.isnull().sum()/len(df)"
   ]
  },
  {
   "cell_type": "code",
   "execution_count": 32,
   "metadata": {
    "id": "rreDzGPwC2I5"
   },
   "outputs": [],
   "source": []
  },
  {
   "cell_type": "code",
   "execution_count": 33,
   "metadata": {
    "colab": {
     "base_uri": "https://localhost:8080/"
    },
    "id": "Xz9KO2rMC2I6",
    "outputId": "f698ea76-32e6-44c3-dcf3-33b5e7f7e770"
   },
   "outputs": [
    {
     "name": "stdout",
     "output_type": "stream",
     "text": [
      "The job title supplied by the Borrower when applying for the loan.*\n",
      "\n",
      "\n",
      "Employment length in years. Possible values are between 0 and 10 where 0 means less than one year and 10 means ten or more years. \n"
     ]
    }
   ],
   "source": [
    "#examine emp_title and emp_length to see whether it will be okay to drop them.\n",
    "feat_info(\"emp_title\")\n",
    "print(\"\\n\")\n",
    "feat_info(\"emp_length\")"
   ]
  },
  {
   "cell_type": "code",
   "execution_count": 33,
   "metadata": {
    "id": "9tK0sxbcC2I6"
   },
   "outputs": [],
   "source": []
  },
  {
   "cell_type": "code",
   "execution_count": 34,
   "metadata": {
    "colab": {
     "base_uri": "https://localhost:8080/"
    },
    "id": "sCpj8K2aC2I6",
    "outputId": "820f0057-70d3-4bec-8404-2258d59a48fc"
   },
   "outputs": [
    {
     "data": {
      "text/plain": [
       "173105"
      ]
     },
     "execution_count": 34,
     "metadata": {},
     "output_type": "execute_result"
    }
   ],
   "source": [
    "#unique employment job title.\n",
    "df['emp_title'].nunique()"
   ]
  },
  {
   "cell_type": "code",
   "execution_count": 34,
   "metadata": {
    "id": "hnqCVaHdC2I7"
   },
   "outputs": [],
   "source": []
  },
  {
   "cell_type": "code",
   "execution_count": 35,
   "metadata": {
    "colab": {
     "base_uri": "https://localhost:8080/"
    },
    "id": "fU8x028lC2I7",
    "outputId": "abc18d02-5c2b-4255-d99f-e020ffa09c20"
   },
   "outputs": [
    {
     "data": {
      "text/plain": [
       "Teacher                    4389\n",
       "Manager                    4250\n",
       "Registered Nurse           1856\n",
       "RN                         1846\n",
       "Supervisor                 1830\n",
       "                           ... \n",
       "Postman                       1\n",
       "McCarthy & Holthus, LLC       1\n",
       "jp flooring                   1\n",
       "Histology Technologist        1\n",
       "Gracon Services, Inc          1\n",
       "Name: emp_title, Length: 173105, dtype: int64"
      ]
     },
     "execution_count": 35,
     "metadata": {},
     "output_type": "execute_result"
    }
   ],
   "source": [
    "df['emp_title'].value_counts()"
   ]
  },
  {
   "cell_type": "code",
   "execution_count": 35,
   "metadata": {
    "id": "ZD_g6otmC2I7"
   },
   "outputs": [],
   "source": []
  },
  {
   "cell_type": "code",
   "execution_count": 36,
   "metadata": {
    "id": "h0Q3PdM6C2I7"
   },
   "outputs": [],
   "source": [
    "#ealistically there are too many unique job titles to try to convert this to a dummy variable feature. I will drop it.\n",
    "df=df.drop(\"emp_title\",axis=1)"
   ]
  },
  {
   "cell_type": "code",
   "execution_count": 37,
   "metadata": {
    "colab": {
     "base_uri": "https://localhost:8080/"
    },
    "id": "CPKPPHIyC2I8",
    "outputId": "ea8aa346-88cc-470c-ed55-1dd4b6388946"
   },
   "outputs": [
    {
     "data": {
      "text/plain": [
       "['1 year',\n",
       " '10+ years',\n",
       " '2 years',\n",
       " '3 years',\n",
       " '4 years',\n",
       " '5 years',\n",
       " '6 years',\n",
       " '7 years',\n",
       " '8 years',\n",
       " '9 years',\n",
       " '< 1 year']"
      ]
     },
     "execution_count": 37,
     "metadata": {},
     "output_type": "execute_result"
    }
   ],
   "source": [
    "#Sort and count plot of the emp_length feature column.\n",
    "sorted(df['emp_length'].dropna().unique())"
   ]
  },
  {
   "cell_type": "code",
   "execution_count": 38,
   "metadata": {
    "id": "G_YklWUjC2I9"
   },
   "outputs": [],
   "source": [
    "ordered_emp_length= ['< 1 year',\n",
    " '1 year',\n",
    " '2 years',\n",
    " '3 years',\n",
    " '4 years',\n",
    " '5 years',\n",
    " '6 years',\n",
    " '7 years',\n",
    " '8 years',\n",
    " '9 years',\n",
    " '10+ years']"
   ]
  },
  {
   "cell_type": "code",
   "execution_count": 39,
   "metadata": {
    "colab": {
     "base_uri": "https://localhost:8080/",
     "height": 352
    },
    "id": "nPtm2rvhC2I9",
    "outputId": "765a9538-b4d0-49f9-f618-7cf3e1a12d7e"
   },
   "outputs": [
    {
     "data": {
      "text/plain": [
       "<matplotlib.axes._subplots.AxesSubplot at 0x7f4c5840cf50>"
      ]
     },
     "execution_count": 39,
     "metadata": {},
     "output_type": "execute_result"
    },
    {
     "data": {
      "image/png": "[encoded data removed]",
      "text/plain": [
       "<Figure size 720x360 with 1 Axes>"
      ]
     },
     "metadata": {
      "needs_background": "light"
     },
     "output_type": "display_data"
    }
   ],
   "source": [
    "plt.figure(figsize=(10,5))\n",
    "sns.countplot(x=\"emp_length\", data= df, order= ordered_emp_length)"
   ]
  },
  {
   "cell_type": "code",
   "execution_count": 40,
   "metadata": {
    "colab": {
     "base_uri": "https://localhost:8080/",
     "height": 352
    },
    "id": "hGcR5KdmC2I-",
    "outputId": "b9c30a28-4395-418f-b1b3-8f5d9d893e4a"
   },
   "outputs": [
    {
     "data": {
      "text/plain": [
       "<matplotlib.axes._subplots.AxesSubplot at 0x7f4c583a9e50>"
      ]
     },
     "execution_count": 40,
     "metadata": {},
     "output_type": "execute_result"
    },
    {
     "data": {
      "image/png": "[encoded data removed]",
      "text/plain": [
       "<Figure size 720x360 with 1 Axes>"
      ]
     },
     "metadata": {
      "needs_background": "light"
     },
     "output_type": "display_data"
    }
   ],
   "source": [
    "#Plot out the countplot with a hue separating Fully Paid vs Charged Off\n",
    "plt.figure(figsize=(10,5))\n",
    "sns.countplot(x=\"emp_length\", data= df, order= ordered_emp_length, hue= \"loan_status\")"
   ]
  },
  {
   "cell_type": "code",
   "execution_count": 40,
   "metadata": {
    "id": "-vqkVYItC2I-"
   },
   "outputs": [],
   "source": []
  },
  {
   "cell_type": "code",
   "execution_count": 41,
   "metadata": {
    "id": "3gzVnW6wC2I_"
   },
   "outputs": [],
   "source": [
    "#This still doesn't really inform us if there is a strong relationship between employment length and being charged off, what we want is the percentage of charge offs per category."
   ]
  },
  {
   "cell_type": "code",
   "execution_count": 42,
   "metadata": {
    "id": "82T5peI6C2I_"
   },
   "outputs": [],
   "source": [
    "emp_charged_off = df[df['loan_status']== \"Charged Off\"].groupby(\"emp_length\").count()[\"loan_status\"]"
   ]
  },
  {
   "cell_type": "code",
   "execution_count": 43,
   "metadata": {
    "id": "Lp1Q69d7C2I_"
   },
   "outputs": [],
   "source": [
    "emp_fully_paid = df[df['loan_status']== \"Fully Paid\"].groupby(\"emp_length\").count()[\"loan_status\"]"
   ]
  },
  {
   "cell_type": "code",
   "execution_count": 44,
   "metadata": {
    "id": "iP6g5xLwC2JA"
   },
   "outputs": [],
   "source": [
    "emp_cf = emp_charged_off/emp_fully_paid"
   ]
  },
  {
   "cell_type": "code",
   "execution_count": 45,
   "metadata": {
    "colab": {
     "base_uri": "https://localhost:8080/"
    },
    "id": "1tshPVe_C2JA",
    "outputId": "23acea85-916f-40bd-e14a-55f9dcccf5b6"
   },
   "outputs": [
    {
     "data": {
      "text/plain": [
       "emp_length\n",
       "1 year       0.248649\n",
       "10+ years    0.225770\n",
       "2 years      0.239560\n",
       "3 years      0.242593\n",
       "4 years      0.238213\n",
       "5 years      0.237911\n",
       "6 years      0.233341\n",
       "7 years      0.241887\n",
       "8 years      0.249625\n",
       "9 years      0.250735\n",
       "< 1 year     0.260830\n",
       "Name: loan_status, dtype: float64"
      ]
     },
     "execution_count": 45,
     "metadata": {},
     "output_type": "execute_result"
    }
   ],
   "source": [
    "emp_cf"
   ]
  },
  {
   "cell_type": "code",
   "execution_count": 46,
   "metadata": {
    "colab": {
     "base_uri": "https://localhost:8080/",
     "height": 339
    },
    "id": "rlndxsrQC2JB",
    "outputId": "2bdaf4a6-4c70-44b5-c09c-5f21a30e9a86"
   },
   "outputs": [
    {
     "data": {
      "text/plain": [
       "<matplotlib.axes._subplots.AxesSubplot at 0x7f4c58299cd0>"
      ]
     },
     "execution_count": 46,
     "metadata": {},
     "output_type": "execute_result"
    },
    {
     "data": {
      "image/png": "[encoded data removed]",
      "text/plain": [
       "<Figure size 432x288 with 1 Axes>"
      ]
     },
     "metadata": {
      "needs_background": "light"
     },
     "output_type": "display_data"
    }
   ],
   "source": [
    "emp_cf.plot(kind=\"bar\")"
   ]
  },
  {
   "cell_type": "code",
   "execution_count": 46,
   "metadata": {
    "id": "zAMXxwsEC2JB"
   },
   "outputs": [],
   "source": []
  },
  {
   "cell_type": "markdown",
   "metadata": {
    "id": "ob1LQ4JwC2JB"
   },
   "source": [
    "**TASK: Charge off rates are extremely similar across all employment lengths. Go ahead and drop the emp_length column.**"
   ]
  },
  {
   "cell_type": "code",
   "execution_count": 47,
   "metadata": {
    "id": "TC5PdqlxC2JC"
   },
   "outputs": [],
   "source": [
    "#Charge off rates are extremely similar across all employment lengths. Therefore, i will drop the emp_length column.\n",
    "df = df.drop(\"emp_length\", axis= 1)"
   ]
  },
  {
   "cell_type": "code",
   "execution_count": 48,
   "metadata": {
    "colab": {
     "base_uri": "https://localhost:8080/"
    },
    "id": "tG1BjWHTC2JC",
    "outputId": "b311e6e8-f2ec-4dad-bf99-260611b6152e"
   },
   "outputs": [
    {
     "data": {
      "text/plain": [
       "loan_amnt                   0\n",
       "term                        0\n",
       "int_rate                    0\n",
       "installment                 0\n",
       "grade                       0\n",
       "sub_grade                   0\n",
       "home_ownership              0\n",
       "annual_inc                  0\n",
       "verification_status         0\n",
       "issue_d                     0\n",
       "loan_status                 0\n",
       "purpose                     0\n",
       "title                    1755\n",
       "dti                         0\n",
       "earliest_cr_line            0\n",
       "open_acc                    0\n",
       "pub_rec                     0\n",
       "revol_bal                   0\n",
       "revol_util                276\n",
       "total_acc                   0\n",
       "initial_list_status         0\n",
       "application_type            0\n",
       "mort_acc                37795\n",
       "pub_rec_bankruptcies      535\n",
       "address                     0\n",
       "loan_repaid                 0\n",
       "dtype: int64"
      ]
     },
     "execution_count": 48,
     "metadata": {},
     "output_type": "execute_result"
    }
   ],
   "source": [
    "df.isnull().sum()"
   ]
  },
  {
   "cell_type": "code",
   "execution_count": 49,
   "metadata": {
    "colab": {
     "base_uri": "https://localhost:8080/"
    },
    "id": "GMt_lVIbC2JD",
    "outputId": "f73b99f3-3f80-4490-923c-f5ddedb6774d"
   },
   "outputs": [
    {
     "data": {
      "text/plain": [
       "0              vacation\n",
       "1    debt_consolidation\n",
       "2           credit_card\n",
       "3           credit_card\n",
       "4           credit_card\n",
       "5    debt_consolidation\n",
       "6      home_improvement\n",
       "7           credit_card\n",
       "8    debt_consolidation\n",
       "9    debt_consolidation\n",
       "Name: purpose, dtype: object"
      ]
     },
     "execution_count": 49,
     "metadata": {},
     "output_type": "execute_result"
    }
   ],
   "source": [
    "df[\"purpose\"].head(10)"
   ]
  },
  {
   "cell_type": "code",
   "execution_count": 50,
   "metadata": {
    "colab": {
     "base_uri": "https://localhost:8080/"
    },
    "id": "XVjBpZn2C2JD",
    "outputId": "aa04cade-8700-4a58-fc13-00562b054684"
   },
   "outputs": [
    {
     "data": {
      "text/plain": [
       "0                   Vacation\n",
       "1         Debt consolidation\n",
       "2    Credit card refinancing\n",
       "3    Credit card refinancing\n",
       "4      Credit Card Refinance\n",
       "5         Debt consolidation\n",
       "6           Home improvement\n",
       "7       No More Credit Cards\n",
       "8         Debt consolidation\n",
       "9         Debt Consolidation\n",
       "Name: title, dtype: object"
      ]
     },
     "execution_count": 50,
     "metadata": {},
     "output_type": "execute_result"
    }
   ],
   "source": [
    "df['title'].head(10)"
   ]
  },
  {
   "cell_type": "markdown",
   "metadata": {
    "id": "mmWPnxWuC2JD"
   },
   "source": [
    "**After reviewing the title column and the purpose column. The title column is simply a string subcategory/description of the purpose column. I will drop the title column**"
   ]
  },
  {
   "cell_type": "code",
   "execution_count": 51,
   "metadata": {
    "id": "sKl6JKaNC2JE"
   },
   "outputs": [],
   "source": [
    "df = df.drop(\"title\", axis= 1)"
   ]
  },
  {
   "cell_type": "markdown",
   "metadata": {
    "id": "vyPA0OCqC2JE"
   },
   "source": [
    "\n",
    "**Find out what the mort_acc feature represents**"
   ]
  },
  {
   "cell_type": "code",
   "execution_count": 52,
   "metadata": {
    "colab": {
     "base_uri": "https://localhost:8080/"
    },
    "id": "tWJrruyqC2JE",
    "outputId": "cdc3337e-be17-4508-9bab-10b6d85a0bc1"
   },
   "outputs": [
    {
     "name": "stdout",
     "output_type": "stream",
     "text": [
      "Number of mortgage accounts.\n"
     ]
    }
   ],
   "source": [
    "feat_info(\"mort_acc\")"
   ]
  },
  {
   "cell_type": "code",
   "execution_count": 53,
   "metadata": {
    "colab": {
     "base_uri": "https://localhost:8080/"
    },
    "id": "hTvRpHNfC2JF",
    "outputId": "87a10af0-f295-45fb-b63a-b4920ffdd988"
   },
   "outputs": [
    {
     "data": {
      "text/plain": [
       "0.0     139777\n",
       "1.0      60416\n",
       "2.0      49948\n",
       "3.0      38049\n",
       "4.0      27887\n",
       "5.0      18194\n",
       "6.0      11069\n",
       "7.0       6052\n",
       "8.0       3121\n",
       "9.0       1656\n",
       "10.0       865\n",
       "11.0       479\n",
       "12.0       264\n",
       "13.0       146\n",
       "14.0       107\n",
       "15.0        61\n",
       "16.0        37\n",
       "17.0        22\n",
       "18.0        18\n",
       "19.0        15\n",
       "20.0        13\n",
       "24.0        10\n",
       "22.0         7\n",
       "21.0         4\n",
       "25.0         4\n",
       "27.0         3\n",
       "32.0         2\n",
       "31.0         2\n",
       "23.0         2\n",
       "26.0         2\n",
       "28.0         1\n",
       "30.0         1\n",
       "34.0         1\n",
       "Name: mort_acc, dtype: int64"
      ]
     },
     "execution_count": 53,
     "metadata": {},
     "output_type": "execute_result"
    }
   ],
   "source": [
    "df[\"mort_acc\"].value_counts()"
   ]
  },
  {
   "cell_type": "code",
   "execution_count": 53,
   "metadata": {
    "id": "_t7uaY0pC2JF"
   },
   "outputs": [],
   "source": []
  },
  {
   "cell_type": "code",
   "execution_count": 54,
   "metadata": {
    "colab": {
     "base_uri": "https://localhost:8080/"
    },
    "id": "is_HhT2LC2JG",
    "outputId": "6a712fc2-23f0-4bb7-f95d-e8327b8fe677"
   },
   "outputs": [
    {
     "data": {
      "text/plain": [
       "int_rate               -0.082583\n",
       "dti                    -0.025439\n",
       "revol_util              0.007514\n",
       "pub_rec                 0.011552\n",
       "pub_rec_bankruptcies    0.027239\n",
       "loan_repaid             0.073111\n",
       "open_acc                0.109205\n",
       "installment             0.193694\n",
       "revol_bal               0.194925\n",
       "loan_amnt               0.222315\n",
       "annual_inc              0.236320\n",
       "total_acc               0.381072\n",
       "mort_acc                1.000000\n",
       "Name: mort_acc, dtype: float64"
      ]
     },
     "execution_count": 54,
     "metadata": {},
     "output_type": "execute_result"
    }
   ],
   "source": [
    "df.corr()['mort_acc'].sort_values()"
   ]
  },
  {
   "cell_type": "markdown",
   "metadata": {
    "id": "mE_JWIELC2JG"
   },
   "source": [
    "**Looks like the total_acc feature correlates with the mort_acc , this makes sense! Let's try this fillna() approach. We will group the dataframe by the total_acc and calculate the mean value for the mort_acc per total_acc entry.:**"
   ]
  },
  {
   "cell_type": "code",
   "execution_count": 55,
   "metadata": {
    "colab": {
     "base_uri": "https://localhost:8080/"
    },
    "id": "N2sET0X6C2JH",
    "outputId": "a5f4907a-034a-41dd-c44a-e8c2acaa2875"
   },
   "outputs": [
    {
     "data": {
      "text/plain": [
       "total_acc\n",
       "2.0      0.000000\n",
       "3.0      0.052023\n",
       "4.0      0.066743\n",
       "5.0      0.103289\n",
       "6.0      0.151293\n",
       "           ...   \n",
       "124.0    1.000000\n",
       "129.0    1.000000\n",
       "135.0    3.000000\n",
       "150.0    2.000000\n",
       "151.0    0.000000\n",
       "Name: mort_acc, Length: 118, dtype: float64"
      ]
     },
     "execution_count": 55,
     "metadata": {},
     "output_type": "execute_result"
    }
   ],
   "source": [
    "df.groupby(\"total_acc\").mean()['mort_acc']"
   ]
  },
  {
   "cell_type": "code",
   "execution_count": 55,
   "metadata": {
    "id": "KV_HdTntC2JH"
   },
   "outputs": [],
   "source": []
  },
  {
   "cell_type": "markdown",
   "metadata": {
    "id": "jZjNfywCC2JH"
   },
   "source": [
    "**Let's fill in the missing mort_acc values based on their total_acc value. If the mort_acc is missing, then we will fill in that missing value with the mean value corresponding to its total_acc value from the Series we created above.**"
   ]
  },
  {
   "cell_type": "code",
   "execution_count": 56,
   "metadata": {
    "id": "ekCesIJpC2JI"
   },
   "outputs": [],
   "source": [
    "total_avg = df.groupby(\"total_acc\").mean()['mort_acc']"
   ]
  },
  {
   "cell_type": "code",
   "execution_count": 57,
   "metadata": {
    "colab": {
     "base_uri": "https://localhost:8080/"
    },
    "id": "SbQj0mIMC2JI",
    "outputId": "e34c308d-71ca-45aa-ed60-aef784a6bb64"
   },
   "outputs": [
    {
     "data": {
      "text/plain": [
       "0.0"
      ]
     },
     "execution_count": 57,
     "metadata": {},
     "output_type": "execute_result"
    }
   ],
   "source": [
    "total_avg[2.0]"
   ]
  },
  {
   "cell_type": "code",
   "execution_count": 58,
   "metadata": {
    "id": "pvEvVlHdC2JJ"
   },
   "outputs": [],
   "source": [
    "def fillin_missing_values(total_acc, mort_acc):\n",
    "    \n",
    "    if np.isnan(mort_acc):\n",
    "        return total_avg[total_acc]\n",
    "    \n",
    "    else:\n",
    "        return mort_acc"
   ]
  },
  {
   "cell_type": "code",
   "execution_count": 59,
   "metadata": {
    "id": "Wa-LAv4sC2JJ"
   },
   "outputs": [],
   "source": [
    "df[\"mort_acc\"] = df.apply(lambda x: fillin_missing_values(x[\"total_acc\"], x[\"mort_acc\"]), axis= 1)"
   ]
  },
  {
   "cell_type": "code",
   "execution_count": 60,
   "metadata": {
    "colab": {
     "base_uri": "https://localhost:8080/"
    },
    "id": "ebqFFQHfC2JK",
    "outputId": "acf59336-6779-4341-c287-aff124a36cd7"
   },
   "outputs": [
    {
     "data": {
      "text/plain": [
       "loan_amnt                 0\n",
       "term                      0\n",
       "int_rate                  0\n",
       "installment               0\n",
       "grade                     0\n",
       "sub_grade                 0\n",
       "home_ownership            0\n",
       "annual_inc                0\n",
       "verification_status       0\n",
       "issue_d                   0\n",
       "loan_status               0\n",
       "purpose                   0\n",
       "dti                       0\n",
       "earliest_cr_line          0\n",
       "open_acc                  0\n",
       "pub_rec                   0\n",
       "revol_bal                 0\n",
       "revol_util              276\n",
       "total_acc                 0\n",
       "initial_list_status       0\n",
       "application_type          0\n",
       "mort_acc                  0\n",
       "pub_rec_bankruptcies    535\n",
       "address                   0\n",
       "loan_repaid               0\n",
       "dtype: int64"
      ]
     },
     "execution_count": 60,
     "metadata": {},
     "output_type": "execute_result"
    }
   ],
   "source": [
    "df.isnull().sum()"
   ]
  },
  {
   "cell_type": "markdown",
   "metadata": {
    "id": "CvDObQ4nC2JK"
   },
   "source": [
    "**revol_util and the pub_rec_bankruptcies have missing data points, but they account for less than 0.5% of the total data.I will remove the rows that are missing those values in those columns with dropna().**"
   ]
  },
  {
   "cell_type": "code",
   "execution_count": 61,
   "metadata": {
    "id": "eEeK1FSJC2JK"
   },
   "outputs": [],
   "source": [
    "df = df.dropna()"
   ]
  },
  {
   "cell_type": "code",
   "execution_count": 62,
   "metadata": {
    "colab": {
     "base_uri": "https://localhost:8080/"
    },
    "id": "gyHuKXH1C2JL",
    "outputId": "79ce977b-28d7-4687-b887-eaa9170b76a6"
   },
   "outputs": [
    {
     "data": {
      "text/plain": [
       "loan_amnt               0\n",
       "term                    0\n",
       "int_rate                0\n",
       "installment             0\n",
       "grade                   0\n",
       "sub_grade               0\n",
       "home_ownership          0\n",
       "annual_inc              0\n",
       "verification_status     0\n",
       "issue_d                 0\n",
       "loan_status             0\n",
       "purpose                 0\n",
       "dti                     0\n",
       "earliest_cr_line        0\n",
       "open_acc                0\n",
       "pub_rec                 0\n",
       "revol_bal               0\n",
       "revol_util              0\n",
       "total_acc               0\n",
       "initial_list_status     0\n",
       "application_type        0\n",
       "mort_acc                0\n",
       "pub_rec_bankruptcies    0\n",
       "address                 0\n",
       "loan_repaid             0\n",
       "dtype: int64"
      ]
     },
     "execution_count": 62,
     "metadata": {},
     "output_type": "execute_result"
    }
   ],
   "source": [
    "df.isnull().sum()"
   ]
  },
  {
   "cell_type": "code",
   "execution_count": 62,
   "metadata": {
    "id": "NhGBmTKnC2JL",
    "scrolled": true
   },
   "outputs": [],
   "source": []
  },
  {
   "cell_type": "markdown",
   "metadata": {
    "id": "84cVB_roC2JM"
   },
   "source": [
    "## Categorical Variables and Dummy Variables\n",
    "\n",
    "\n",
    "**List all the columns that are currently non-numeric.**"
   ]
  },
  {
   "cell_type": "code",
   "execution_count": 63,
   "metadata": {
    "colab": {
     "base_uri": "https://localhost:8080/"
    },
    "id": "EiWUGV8BC2JM",
    "outputId": "6e425ee8-6a68-4dd9-e862-33f6569e0414"
   },
   "outputs": [
    {
     "data": {
      "text/plain": [
       "Index(['term', 'grade', 'sub_grade', 'home_ownership', 'verification_status',\n",
       "       'issue_d', 'loan_status', 'purpose', 'earliest_cr_line',\n",
       "       'initial_list_status', 'application_type', 'address'],\n",
       "      dtype='object')"
      ]
     },
     "execution_count": 63,
     "metadata": {},
     "output_type": "execute_result"
    }
   ],
   "source": [
    "df.select_dtypes(['object']).columns"
   ]
  },
  {
   "cell_type": "markdown",
   "metadata": {
    "id": "R84UF_sHC2JM"
   },
   "source": [
    "\n",
    "### term feature\n",
    "\n",
    "**Convert the term feature into either a 36 or 60 integer numeric data type using .apply()**"
   ]
  },
  {
   "cell_type": "code",
   "execution_count": 64,
   "metadata": {
    "colab": {
     "base_uri": "https://localhost:8080/"
    },
    "id": "RiLoJZxQC2JM",
    "outputId": "a56bdcc3-603c-41fd-e2e1-0cd761c052ac"
   },
   "outputs": [
    {
     "data": {
      "text/plain": [
       " 36 months    301247\n",
       " 60 months     93972\n",
       "Name: term, dtype: int64"
      ]
     },
     "execution_count": 64,
     "metadata": {},
     "output_type": "execute_result"
    }
   ],
   "source": [
    "df['term'].value_counts()"
   ]
  },
  {
   "cell_type": "code",
   "execution_count": 65,
   "metadata": {
    "id": "faMDqt6JC2JN"
   },
   "outputs": [],
   "source": [
    "df['term'] = df['term'].apply(lambda term: int(term[:3]))"
   ]
  },
  {
   "cell_type": "markdown",
   "metadata": {
    "id": "zyf-vRbvC2JN"
   },
   "source": [
    "### grade feature\n",
    "\n",
    "**We already know grade is part of sub_grade, so just drop the grade feature.**"
   ]
  },
  {
   "cell_type": "code",
   "execution_count": 66,
   "metadata": {
    "id": "yclIF3DdC2JN"
   },
   "outputs": [],
   "source": [
    "df = df.drop(\"grade\", axis=1)"
   ]
  },
  {
   "cell_type": "markdown",
   "metadata": {
    "id": "5_X-Z_mZC2JN"
   },
   "source": [
    "**Convert the subgrade into dummy variables. Then concatenate these new columns to the original dataframe. Also drop the original subgrade column.**"
   ]
  },
  {
   "cell_type": "code",
   "execution_count": 67,
   "metadata": {
    "id": "ACB1YSVpC2JN"
   },
   "outputs": [],
   "source": [
    "sub_grade_dummies = pd.get_dummies(df['sub_grade'],drop_first=True)"
   ]
  },
  {
   "cell_type": "code",
   "execution_count": 68,
   "metadata": {
    "id": "VgsSU6K3C2JO"
   },
   "outputs": [],
   "source": [
    "df = pd.concat([df.drop('sub_grade',axis=1),sub_grade_dummies],axis=1)"
   ]
  },
  {
   "cell_type": "code",
   "execution_count": 69,
   "metadata": {
    "colab": {
     "base_uri": "https://localhost:8080/"
    },
    "id": "gklytquxC2JO",
    "outputId": "bd4d4e36-9d0b-4ee1-b8af-d79f4101efc5"
   },
   "outputs": [
    {
     "data": {
      "text/plain": [
       "Index(['loan_amnt', 'term', 'int_rate', 'installment', 'home_ownership',\n",
       "       'annual_inc', 'verification_status', 'issue_d', 'loan_status',\n",
       "       'purpose', 'dti', 'earliest_cr_line', 'open_acc', 'pub_rec',\n",
       "       'revol_bal', 'revol_util', 'total_acc', 'initial_list_status',\n",
       "       'application_type', 'mort_acc', 'pub_rec_bankruptcies', 'address',\n",
       "       'loan_repaid', 'A2', 'A3', 'A4', 'A5', 'B1', 'B2', 'B3', 'B4', 'B5',\n",
       "       'C1', 'C2', 'C3', 'C4', 'C5', 'D1', 'D2', 'D3', 'D4', 'D5', 'E1', 'E2',\n",
       "       'E3', 'E4', 'E5', 'F1', 'F2', 'F3', 'F4', 'F5', 'G1', 'G2', 'G3', 'G4',\n",
       "       'G5'],\n",
       "      dtype='object')"
      ]
     },
     "execution_count": 69,
     "metadata": {},
     "output_type": "execute_result"
    }
   ],
   "source": [
    "df.columns"
   ]
  },
  {
   "cell_type": "code",
   "execution_count": 70,
   "metadata": {
    "colab": {
     "base_uri": "https://localhost:8080/"
    },
    "id": "fSc4DqcVC2JO",
    "outputId": "7fd6148e-a306-41fa-e018-a21c709d9a35"
   },
   "outputs": [
    {
     "data": {
      "text/plain": [
       "Index(['home_ownership', 'verification_status', 'issue_d', 'loan_status',\n",
       "       'purpose', 'earliest_cr_line', 'initial_list_status',\n",
       "       'application_type', 'address'],\n",
       "      dtype='object')"
      ]
     },
     "execution_count": 70,
     "metadata": {},
     "output_type": "execute_result"
    }
   ],
   "source": [
    "df.select_dtypes(['object']).columns"
   ]
  },
  {
   "cell_type": "markdown",
   "metadata": {
    "id": "Qew2a4_nC2JO"
   },
   "source": [
    "### verification_status, application_type,initial_list_status,purpose \n",
    "**Convert these columns: ['verification_status', 'application_type','initial_list_status','purpose'] into dummy variables and concatenate them with the original dataframe.Also drop the original columns.**"
   ]
  },
  {
   "cell_type": "code",
   "execution_count": 71,
   "metadata": {
    "id": "NLAEScntC2JP"
   },
   "outputs": [],
   "source": [
    "dummies = pd.get_dummies(df[['verification_status', 'application_type','initial_list_status','purpose']],drop_first=True)"
   ]
  },
  {
   "cell_type": "code",
   "execution_count": 72,
   "metadata": {
    "id": "xOjKBwJiC2JP"
   },
   "outputs": [],
   "source": [
    "df = pd.concat([df.drop(['verification_status', 'application_type','initial_list_status','purpose'],axis=1),dummies],axis=1)"
   ]
  },
  {
   "cell_type": "code",
   "execution_count": 73,
   "metadata": {
    "id": "zm_4ER4dC2JP"
   },
   "outputs": [],
   "source": [
    "#df.select_dtypes(['object']).columns"
   ]
  },
  {
   "cell_type": "markdown",
   "metadata": {
    "id": "JQCtEDr8C2JP"
   },
   "source": [
    "### home_ownership\n",
    "**Review the value_counts for the home_ownership column.**"
   ]
  },
  {
   "cell_type": "code",
   "execution_count": 74,
   "metadata": {
    "colab": {
     "base_uri": "https://localhost:8080/"
    },
    "id": "mQoJdHRgC2JP",
    "outputId": "771490ee-4715-4632-8444-12a2bbcf3546"
   },
   "outputs": [
    {
     "data": {
      "text/plain": [
       "MORTGAGE    198022\n",
       "RENT        159395\n",
       "OWN          37660\n",
       "OTHER          110\n",
       "NONE            29\n",
       "ANY              3\n",
       "Name: home_ownership, dtype: int64"
      ]
     },
     "execution_count": 74,
     "metadata": {},
     "output_type": "execute_result"
    }
   ],
   "source": [
    "df[\"home_ownership\"].value_counts()"
   ]
  },
  {
   "cell_type": "markdown",
   "metadata": {
    "id": "WKEgr9nFC2JP"
   },
   "source": [
    "**Convert these to dummy variables, but replace NONE and ANY with OTHER, so that we end up with just 4 categories, MORTGAGE, RENT, OWN, OTHER. Then concatenate them with the original dataframe. Also drop the original columns.**"
   ]
  },
  {
   "cell_type": "code",
   "execution_count": 75,
   "metadata": {
    "id": "JKDWmTqUC2JQ"
   },
   "outputs": [],
   "source": [
    "df['home_ownership'] = df['home_ownership'].replace(['NONE', 'ANY'], 'OTHER')\n",
    "\n",
    "home_dummies = pd.get_dummies(df['home_ownership'],drop_first=True)\n",
    "df = pd.concat([df.drop('home_ownership',axis=1),home_dummies],axis=1)"
   ]
  },
  {
   "cell_type": "markdown",
   "metadata": {
    "id": "xmElcMouC2JQ"
   },
   "source": [
    "### address\n",
    "**Let's feature engineer a zip code column from the address in the data set. Create a column called 'zip_code' that extracts the zip code from the address column.**"
   ]
  },
  {
   "cell_type": "code",
   "execution_count": 77,
   "metadata": {
    "id": "CTsRjbOnC2JQ"
   },
   "outputs": [],
   "source": [
    "df['zip_code'] = df['address'].apply(lambda x: x[-5:])"
   ]
  },
  {
   "cell_type": "code",
   "execution_count": 78,
   "metadata": {
    "colab": {
     "base_uri": "https://localhost:8080/"
    },
    "id": "uK1fCNoqC2JQ",
    "outputId": "76dfd3bb-b80f-442f-c8d6-1f3a2be2763b"
   },
   "outputs": [
    {
     "data": {
      "text/plain": [
       "Index(['loan_amnt', 'term', 'int_rate', 'installment', 'annual_inc', 'issue_d',\n",
       "       'loan_status', 'dti', 'earliest_cr_line', 'open_acc', 'pub_rec',\n",
       "       'revol_bal', 'revol_util', 'total_acc', 'mort_acc',\n",
       "       'pub_rec_bankruptcies', 'address', 'loan_repaid', 'A2', 'A3', 'A4',\n",
       "       'A5', 'B1', 'B2', 'B3', 'B4', 'B5', 'C1', 'C2', 'C3', 'C4', 'C5', 'D1',\n",
       "       'D2', 'D3', 'D4', 'D5', 'E1', 'E2', 'E3', 'E4', 'E5', 'F1', 'F2', 'F3',\n",
       "       'F4', 'F5', 'G1', 'G2', 'G3', 'G4', 'G5',\n",
       "       'verification_status_Source Verified', 'verification_status_Verified',\n",
       "       'application_type_INDIVIDUAL', 'application_type_JOINT',\n",
       "       'initial_list_status_w', 'purpose_credit_card',\n",
       "       'purpose_debt_consolidation', 'purpose_educational',\n",
       "       'purpose_home_improvement', 'purpose_house', 'purpose_major_purchase',\n",
       "       'purpose_medical', 'purpose_moving', 'purpose_other',\n",
       "       'purpose_renewable_energy', 'purpose_small_business',\n",
       "       'purpose_vacation', 'purpose_wedding', 'OTHER', 'OWN', 'RENT',\n",
       "       'zip_code'],\n",
       "      dtype='object')"
      ]
     },
     "execution_count": 78,
     "metadata": {},
     "output_type": "execute_result"
    }
   ],
   "source": [
    "df.columns"
   ]
  },
  {
   "cell_type": "markdown",
   "metadata": {
    "id": "nvJQ1-ekC2JQ"
   },
   "source": [
    "**Now make this zip_code column into dummy variables using pandas. Concatenate the result and drop the original zip_code column along with dropping the address column.**"
   ]
  },
  {
   "cell_type": "code",
   "execution_count": 79,
   "metadata": {
    "id": "Shc9JWuVC2JR"
   },
   "outputs": [],
   "source": [
    "zip_dummies = pd.get_dummies(df['zip_code'],drop_first=True)\n",
    "df = pd.concat([df.drop('zip_code',axis=1),zip_dummies],axis=1)"
   ]
  },
  {
   "cell_type": "code",
   "execution_count": 79,
   "metadata": {
    "id": "rpWNCYEpC2JR"
   },
   "outputs": [],
   "source": []
  },
  {
   "cell_type": "markdown",
   "metadata": {
    "id": "i42WMqzIC2JR"
   },
   "source": [
    "### issue_d \n",
    "\n",
    "**This would be data leakage, we wouldn't know beforehand whether or not a loan would be issued when using our model, so in theory we wouldn't have an issue_date, I'll drop this feature.**"
   ]
  },
  {
   "cell_type": "code",
   "execution_count": 80,
   "metadata": {
    "id": "9CbpQQOxC2JR"
   },
   "outputs": [],
   "source": [
    "df = df.drop(\"issue_d\", axis=1)"
   ]
  },
  {
   "cell_type": "code",
   "execution_count": 80,
   "metadata": {
    "id": "jjk23XysC2JR"
   },
   "outputs": [],
   "source": []
  },
  {
   "cell_type": "markdown",
   "metadata": {
    "id": "JM_069RIC2JR"
   },
   "source": [
    "### earliest_cr_line\n",
    "**This appears to be a historical time stamp feature. I will extract the year from this feature using a .apply function, then convert it to a numeric feature and set this new data to a feature column called 'earliest_cr_year'.Then I will drop the earliest_cr_line feature.**"
   ]
  },
  {
   "cell_type": "code",
   "execution_count": 81,
   "metadata": {
    "id": "tB9aYeU8C2JR"
   },
   "outputs": [],
   "source": [
    "#df[\"earliest_cr_year\"].head(1)"
   ]
  },
  {
   "cell_type": "code",
   "execution_count": 82,
   "metadata": {
    "id": "lB0N2IT6C2JS"
   },
   "outputs": [],
   "source": [
    "df['earliest_cr_year'] = df['earliest_cr_line'].apply(lambda x: int(x[-4:]))"
   ]
  },
  {
   "cell_type": "code",
   "execution_count": 83,
   "metadata": {
    "id": "ppUl7QRnC2JS"
   },
   "outputs": [],
   "source": [
    "df = df.drop(\"earliest_cr_line\", axis=1)"
   ]
  },
  {
   "cell_type": "code",
   "execution_count": 84,
   "metadata": {
    "id": "uTY-3T3XC2JS"
   },
   "outputs": [],
   "source": [
    "df = df.drop(\"address\", axis=1)"
   ]
  },
  {
   "cell_type": "code",
   "execution_count": 85,
   "metadata": {
    "colab": {
     "base_uri": "https://localhost:8080/"
    },
    "id": "tktSOykPC2JS",
    "outputId": "435394d8-a2b4-4ecf-af34-3ae8f6236608"
   },
   "outputs": [
    {
     "data": {
      "text/plain": [
       "Index(['loan_status'], dtype='object')"
      ]
     },
     "execution_count": 85,
     "metadata": {},
     "output_type": "execute_result"
    }
   ],
   "source": [
    "df.select_dtypes(['object']).columns"
   ]
  },
  {
   "cell_type": "code",
   "execution_count": 85,
   "metadata": {
    "id": "x1QhFpLqC2JT"
   },
   "outputs": [],
   "source": []
  },
  {
   "cell_type": "markdown",
   "metadata": {
    "id": "zxMosi5HC2JT"
   },
   "source": [
    "## Train Test Split"
   ]
  },
  {
   "cell_type": "code",
   "execution_count": 86,
   "metadata": {
    "id": "e-MSs7lWC2JT"
   },
   "outputs": [],
   "source": [
    "from sklearn.model_selection import train_test_split"
   ]
  },
  {
   "cell_type": "markdown",
   "metadata": {
    "id": "77fIa25mC2JT"
   },
   "source": [
    "**I will drop the load_status column we created earlier, since its a duplicate of the loan_repaid column. We'll use the loan_repaid column since its already in 0s and 1s.**"
   ]
  },
  {
   "cell_type": "code",
   "execution_count": 87,
   "metadata": {
    "id": "AdZ6lrdIC2JT"
   },
   "outputs": [],
   "source": [
    "df = df.drop(\"loan_status\", axis=1)"
   ]
  },
  {
   "cell_type": "markdown",
   "metadata": {
    "id": "rX-XUQgBC2JU"
   },
   "source": [
    "**Set X and y variables to the .values of the features and label.**"
   ]
  },
  {
   "cell_type": "code",
   "execution_count": 88,
   "metadata": {
    "id": "unY9u5xaC2JU"
   },
   "outputs": [],
   "source": [
    "X = df.drop('loan_repaid',axis=1).values\n",
    "y = df['loan_repaid'].values"
   ]
  },
  {
   "cell_type": "markdown",
   "metadata": {
    "id": "86T_Q6R-C2JU"
   },
   "source": [
    "\n",
    "## Grabbing a Sample for Training Time"
   ]
  },
  {
   "cell_type": "code",
   "execution_count": 89,
   "metadata": {
    "colab": {
     "base_uri": "https://localhost:8080/"
    },
    "id": "bnC7AzwNC2JU",
    "outputId": "5d4cd5a8-11ee-4fff-eae1-914aa144ad5c"
   },
   "outputs": [
    {
     "name": "stdout",
     "output_type": "stream",
     "text": [
      "395219\n"
     ]
    }
   ],
   "source": [
    "# df = df.sample(frac=0.1,random_state=101)\n",
    "print(len(df))"
   ]
  },
  {
   "cell_type": "code",
   "execution_count": 91,
   "metadata": {
    "id": "JSzDthYTC2JV"
   },
   "outputs": [],
   "source": [
    "X_train, X_test, y_train, y_test = train_test_split(X, y, test_size=0.20, random_state=101)"
   ]
  },
  {
   "cell_type": "markdown",
   "metadata": {
    "id": "JGdkGB1eC2JW"
   },
   "source": [
    "## Normalizing the Data\n",
    "\n",
    "**Use a MinMaxScaler to normalize the feature data X_train and X_test. Recall we don't want data leakge from the test set so we only fit on the X_train data.**"
   ]
  },
  {
   "cell_type": "code",
   "execution_count": 93,
   "metadata": {
    "id": "IMkBadrMC2JW"
   },
   "outputs": [],
   "source": [
    "from sklearn.preprocessing import MinMaxScaler"
   ]
  },
  {
   "cell_type": "code",
   "execution_count": 94,
   "metadata": {
    "id": "29LmuVWtC2JW"
   },
   "outputs": [],
   "source": [
    "scaler = MinMaxScaler()"
   ]
  },
  {
   "cell_type": "code",
   "execution_count": 95,
   "metadata": {
    "id": "OT7NNpl4C2JW"
   },
   "outputs": [],
   "source": [
    "X_train = scaler.fit_transform(X_train)"
   ]
  },
  {
   "cell_type": "code",
   "execution_count": 96,
   "metadata": {
    "id": "4yOFuRUlC2JW"
   },
   "outputs": [],
   "source": [
    "X_test = scaler.transform(X_test)"
   ]
  },
  {
   "cell_type": "markdown",
   "metadata": {
    "id": "LkJdWHxCC2JX"
   },
   "source": [
    "# Creating the Model\n",
    "\n"
   ]
  },
  {
   "cell_type": "code",
   "execution_count": 97,
   "metadata": {
    "id": "ixCpXrtDC2JX"
   },
   "outputs": [],
   "source": [
    "import tensorflow as tf\n",
    "from tensorflow.keras.models import Sequential\n",
    "from tensorflow.keras.layers import Dense,Dropout"
   ]
  },
  {
   "cell_type": "markdown",
   "metadata": {
    "id": "PIhfHsGnC2JX"
   },
   "source": [
    "**Build a sequential model to will be trained on the data. You have unlimited options here, but here is what the solution uses: a model that goes 78 --> 39 --> 19--> 1 output neuron.**"
   ]
  },
  {
   "cell_type": "code",
   "execution_count": 98,
   "metadata": {
    "id": "yxEnikNgC2JX"
   },
   "outputs": [],
   "source": [
    "\n",
    "model = Sequential()\n",
    "\n",
    "model.add(Dense(78,  activation='relu'))\n",
    "model.add(Dropout(0.2))\n",
    "\n",
    "model.add(Dense(39,  activation='relu'))\n",
    "model.add(Dropout(0.2))\n",
    "\n",
    "model.add(Dense(19,  activation='relu'))\n",
    "model.add(Dropout(0.2))\n",
    "\n",
    "model.add(Dense(units=1,activation='sigmoid'))\n",
    "\n",
    "model.compile(loss='binary_crossentropy', optimizer='adam')\n",
    "\n"
   ]
  },
  {
   "cell_type": "markdown",
   "metadata": {
    "id": "0nALGZTeC2JX"
   },
   "source": [
    "**Fitted the model to the training data for at least 25 epochs. Also add in the validation data for later plotting.**"
   ]
  },
  {
   "cell_type": "code",
   "execution_count": 99,
   "metadata": {
    "colab": {
     "base_uri": "https://localhost:8080/"
    },
    "id": "gTGsw11KC2JY",
    "outputId": "4355fc97-4210-4479-e990-b7f55e057e70"
   },
   "outputs": [
    {
     "name": "stdout",
     "output_type": "stream",
     "text": [
      "Epoch 1/25\n",
      "1236/1236 [==============================] - 6s 5ms/step - loss: 0.2969 - val_loss: 0.2653\n",
      "Epoch 2/25\n",
      "1236/1236 [==============================] - 6s 4ms/step - loss: 0.2645 - val_loss: 0.2635\n",
      "Epoch 3/25\n",
      "1236/1236 [==============================] - 5s 4ms/step - loss: 0.2627 - val_loss: 0.2627\n",
      "Epoch 4/25\n",
      "1236/1236 [==============================] - 8s 6ms/step - loss: 0.2618 - val_loss: 0.2623\n",
      "Epoch 5/25\n",
      "1236/1236 [==============================] - 10s 8ms/step - loss: 0.2610 - val_loss: 0.2626\n",
      "Epoch 6/25\n",
      "1236/1236 [==============================] - 10s 8ms/step - loss: 0.2604 - val_loss: 0.2620\n",
      "Epoch 7/25\n",
      "1236/1236 [==============================] - 11s 9ms/step - loss: 0.2602 - val_loss: 0.2620\n",
      "Epoch 8/25\n",
      "1236/1236 [==============================] - 8s 6ms/step - loss: 0.2598 - val_loss: 0.2614\n",
      "Epoch 9/25\n",
      "1236/1236 [==============================] - 7s 6ms/step - loss: 0.2592 - val_loss: 0.2613\n",
      "Epoch 10/25\n",
      "1236/1236 [==============================] - 6s 5ms/step - loss: 0.2593 - val_loss: 0.2611\n",
      "Epoch 11/25\n",
      "1236/1236 [==============================] - 5s 4ms/step - loss: 0.2589 - val_loss: 0.2615\n",
      "Epoch 12/25\n",
      "1236/1236 [==============================] - 5s 4ms/step - loss: 0.2587 - val_loss: 0.2612\n",
      "Epoch 13/25\n",
      "1236/1236 [==============================] - 5s 4ms/step - loss: 0.2586 - val_loss: 0.2613\n",
      "Epoch 14/25\n",
      "1236/1236 [==============================] - 5s 4ms/step - loss: 0.2581 - val_loss: 0.2614\n",
      "Epoch 15/25\n",
      "1236/1236 [==============================] - 5s 4ms/step - loss: 0.2579 - val_loss: 0.2611\n",
      "Epoch 16/25\n",
      "1236/1236 [==============================] - 5s 4ms/step - loss: 0.2579 - val_loss: 0.2610\n",
      "Epoch 17/25\n",
      "1236/1236 [==============================] - 6s 4ms/step - loss: 0.2575 - val_loss: 0.2610\n",
      "Epoch 18/25\n",
      "1236/1236 [==============================] - 5s 4ms/step - loss: 0.2577 - val_loss: 0.2608\n",
      "Epoch 19/25\n",
      "1236/1236 [==============================] - 5s 4ms/step - loss: 0.2571 - val_loss: 0.2610\n",
      "Epoch 20/25\n",
      "1236/1236 [==============================] - 5s 4ms/step - loss: 0.2570 - val_loss: 0.2610\n",
      "Epoch 21/25\n",
      "1236/1236 [==============================] - 6s 5ms/step - loss: 0.2569 - val_loss: 0.2611\n",
      "Epoch 22/25\n",
      "1236/1236 [==============================] - 5s 4ms/step - loss: 0.2569 - val_loss: 0.2614\n",
      "Epoch 23/25\n",
      "1236/1236 [==============================] - 5s 4ms/step - loss: 0.2568 - val_loss: 0.2611\n",
      "Epoch 24/25\n",
      "1236/1236 [==============================] - 6s 5ms/step - loss: 0.2565 - val_loss: 0.2608\n",
      "Epoch 25/25\n",
      "1236/1236 [==============================] - 5s 4ms/step - loss: 0.2565 - val_loss: 0.2615\n"
     ]
    },
    {
     "data": {
      "text/plain": [
       "<keras.callbacks.History at 0x7f4c4eab2d50>"
      ]
     },
     "execution_count": 99,
     "metadata": {},
     "output_type": "execute_result"
    }
   ],
   "source": [
    "model.fit(x=X_train, \n",
    "          y=y_train, \n",
    "          epochs=25,\n",
    "          batch_size=256,\n",
    "          validation_data=(X_test, y_test), verbose=1\n",
    "          )"
   ]
  },
  {
   "cell_type": "code",
   "execution_count": 99,
   "metadata": {
    "id": "BIuvx5ntC2JY"
   },
   "outputs": [],
   "source": []
  },
  {
   "cell_type": "markdown",
   "metadata": {
    "id": "2W2b7J8vC2JY"
   },
   "source": [
    "**Save The model.**"
   ]
  },
  {
   "cell_type": "code",
   "execution_count": 100,
   "metadata": {
    "id": "CF_P_V9XC2JY"
   },
   "outputs": [],
   "source": [
    "from tensorflow.keras.models import load_model"
   ]
  },
  {
   "cell_type": "code",
   "execution_count": 101,
   "metadata": {
    "id": "cj_ImgpQC2JY"
   },
   "outputs": [],
   "source": [
    "model.save('full_data_TensClassi_project_model.h5')"
   ]
  },
  {
   "cell_type": "code",
   "execution_count": 101,
   "metadata": {
    "id": "ULmyR7adC2JY"
   },
   "outputs": [],
   "source": []
  },
  {
   "cell_type": "markdown",
   "metadata": {
    "id": "p7vovxIDC2JY"
   },
   "source": [
    "# Evaluating Model Performance.\n",
    "\n",
    "**Plot out the validation loss versus the training loss.**"
   ]
  },
  {
   "cell_type": "code",
   "execution_count": 103,
   "metadata": {
    "id": "hJ3KFar2C2JZ"
   },
   "outputs": [],
   "source": [
    "losses = pd.DataFrame(model.history.history)"
   ]
  },
  {
   "cell_type": "code",
   "execution_count": 104,
   "metadata": {
    "colab": {
     "base_uri": "https://localhost:8080/",
     "height": 282
    },
    "id": "K7c6-y6YC2JZ",
    "outputId": "695d6571-cd6d-4481-fe1d-ac7b57a0280a"
   },
   "outputs": [
    {
     "data": {
      "text/plain": [
       "<matplotlib.axes._subplots.AxesSubplot at 0x7f4bed5ccc90>"
      ]
     },
     "execution_count": 104,
     "metadata": {},
     "output_type": "execute_result"
    },
    {
     "data": {
      "image/png": "[encoded data removed]",
      "text/plain": [
       "<Figure size 432x288 with 1 Axes>"
      ]
     },
     "metadata": {
      "needs_background": "light"
     },
     "output_type": "display_data"
    }
   ],
   "source": [
    "losses[['loss','val_loss']].plot()"
   ]
  },
  {
   "cell_type": "markdown",
   "metadata": {
    "id": "PJJb-H9bC2JZ"
   },
   "source": [
    "**Created predictions from the X_test set and display a classification report and confusion matrix for the X_test set.**"
   ]
  },
  {
   "cell_type": "code",
   "execution_count": 109,
   "metadata": {
    "id": "IJKMKc8oC2JZ"
   },
   "outputs": [],
   "source": [
    "from sklearn.metrics import classification_report,confusion_matrix"
   ]
  },
  {
   "cell_type": "code",
   "execution_count": 111,
   "metadata": {
    "id": "rbXGfl_5C2Ja"
   },
   "outputs": [],
   "source": [
    "predictions = (model.predict(X_test) > 0.5).astype(\"int32\")"
   ]
  },
  {
   "cell_type": "code",
   "execution_count": 112,
   "metadata": {
    "colab": {
     "base_uri": "https://localhost:8080/"
    },
    "id": "UfHWBgYsC2Ja",
    "outputId": "307ba0bf-e737-4352-ba9c-1008b8ff77fb"
   },
   "outputs": [
    {
     "name": "stdout",
     "output_type": "stream",
     "text": [
      "              precision    recall  f1-score   support\n",
      "\n",
      "           0       0.97      0.45      0.61     15658\n",
      "           1       0.88      1.00      0.93     63386\n",
      "\n",
      "    accuracy                           0.89     79044\n",
      "   macro avg       0.92      0.72      0.77     79044\n",
      "weighted avg       0.90      0.89      0.87     79044\n",
      "\n"
     ]
    }
   ],
   "source": [
    "print(classification_report(y_test,predictions))"
   ]
  },
  {
   "cell_type": "code",
   "execution_count": 113,
   "metadata": {
    "colab": {
     "base_uri": "https://localhost:8080/"
    },
    "id": "oKUA1r04C2Ja",
    "outputId": "737be035-a34b-4c62-cb75-01c35cfd7025"
   },
   "outputs": [
    {
     "data": {
      "text/plain": [
       "array([[ 7018,  8640],\n",
       "       [  234, 63152]])"
      ]
     },
     "execution_count": 113,
     "metadata": {},
     "output_type": "execute_result"
    }
   ],
   "source": [
    "confusion_matrix(y_test,predictions)"
   ]
  },
  {
   "cell_type": "code",
   "execution_count": 105,
   "metadata": {
    "id": "1L-i28QpC2Ja"
   },
   "outputs": [],
   "source": []
  },
  {
   "cell_type": "markdown",
   "metadata": {
    "id": "WawvZCZmC2Ja"
   },
   "source": [
    "**Given the customer below, would you offer this person a loan?**"
   ]
  },
  {
   "cell_type": "code",
   "execution_count": 114,
   "metadata": {
    "colab": {
     "base_uri": "https://localhost:8080/"
    },
    "id": "7u6tceUTC2Ja",
    "outputId": "b032886e-54c9-4fbd-fee9-f93eb76279fd"
   },
   "outputs": [
    {
     "data": {
      "text/plain": [
       "loan_amnt           25000.00\n",
       "term                   60.00\n",
       "int_rate               18.24\n",
       "installment           638.11\n",
       "annual_inc          61665.00\n",
       "                      ...   \n",
       "48052                   0.00\n",
       "70466                   0.00\n",
       "86630                   0.00\n",
       "93700                   0.00\n",
       "earliest_cr_year     1996.00\n",
       "Name: 305323, Length: 78, dtype: float64"
      ]
     },
     "execution_count": 114,
     "metadata": {},
     "output_type": "execute_result"
    }
   ],
   "source": [
    "import random\n",
    "random.seed(101)\n",
    "random_ind = random.randint(0,len(df))\n",
    "\n",
    "new_customer = df.drop('loan_repaid',axis=1).iloc[random_ind]\n",
    "new_customer"
   ]
  },
  {
   "cell_type": "code",
   "execution_count": 115,
   "metadata": {
    "colab": {
     "base_uri": "https://localhost:8080/"
    },
    "id": "qY4_HisdC2Jb",
    "outputId": "d74cc524-7848-421a-dce1-f4dbdf88da71"
   },
   "outputs": [
    {
     "data": {
      "text/plain": [
       "array([[1.]], dtype=float32)"
      ]
     },
     "execution_count": 115,
     "metadata": {},
     "output_type": "execute_result"
    }
   ],
   "source": [
    "model.predict(new_customer.values.reshape(1,78))"
   ]
  },
  {
   "cell_type": "markdown",
   "metadata": {
    "id": "l6Bb8krcC2Jb"
   },
   "source": [
    "**Did this person actually end up paying back their loan?**"
   ]
  },
  {
   "cell_type": "code",
   "execution_count": 116,
   "metadata": {
    "colab": {
     "base_uri": "https://localhost:8080/"
    },
    "id": "mv4hEzn-C2Jb",
    "outputId": "9e7fbaac-f106-4c72-c582-23567e9415e1"
   },
   "outputs": [
    {
     "data": {
      "text/plain": [
       "1.0"
      ]
     },
     "execution_count": 116,
     "metadata": {},
     "output_type": "execute_result"
    }
   ],
   "source": [
    "df.iloc[random_ind]['loan_repaid']"
   ]
  }
 ],
 "metadata": {
  "colab": {
   "collapsed_sections": [
    "s_9BA3DRC2Jc"
   ],
   "name": "03-Keras-Project-Exercise copy.ipynb",
   "provenance": []
  },
  "kernelspec": {
   "display_name": "Python 3",
   "language": "python",
   "name": "python3"
  },
  "language_info": {
   "codemirror_mode": {
    "name": "ipython",
    "version": 3
   },
   "file_extension": ".py",
   "mimetype": "text/x-python",
   "name": "python",
   "nbconvert_exporter": "python",
   "pygments_lexer": "ipython3",
   "version": "3.8.3"
  }
 },
 "nbformat": 4,
 "nbformat_minor": 1
}
